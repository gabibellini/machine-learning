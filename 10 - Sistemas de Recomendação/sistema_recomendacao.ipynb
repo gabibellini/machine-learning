{
  "nbformat": 4,
  "nbformat_minor": 0,
  "metadata": {
    "colab": {
      "name": "Introdução a Recomendação",
      "version": "0.3.2",
      "provenance": [],
      "collapsed_sections": []
    },
    "kernelspec": {
      "name": "python3",
      "display_name": "Python 3"
    }
  },
  "cells": [
    {
      "metadata": {
        "id": "NhuojMFKZa2M",
        "colab_type": "code",
        "outputId": "1c43bb3d-6c8e-4824-c866-be37c5defa69",
        "colab": {
          "base_uri": "https://localhost:8080/",
          "height": 235
        }
      },
      "cell_type": "code",
      "source": [
        "import pandas as pd\n",
        "\n",
        "filmes = pd.read_csv(\"movies.csv\")\n",
        "filmes.columns = [\"filmeId\", \"titulo\", \"generos\"]\n",
        "filmes = filmes.set_index(\"filmeId\")\n",
        "filmes.head()"
      ],
      "execution_count": 1,
      "outputs": [
        {
          "output_type": "execute_result",
          "data": {
            "text/html": [
              "<div>\n",
              "<style scoped>\n",
              "    .dataframe tbody tr th:only-of-type {\n",
              "        vertical-align: middle;\n",
              "    }\n",
              "\n",
              "    .dataframe tbody tr th {\n",
              "        vertical-align: top;\n",
              "    }\n",
              "\n",
              "    .dataframe thead th {\n",
              "        text-align: right;\n",
              "    }\n",
              "</style>\n",
              "<table border=\"1\" class=\"dataframe\">\n",
              "  <thead>\n",
              "    <tr style=\"text-align: right;\">\n",
              "      <th></th>\n",
              "      <th>titulo</th>\n",
              "      <th>generos</th>\n",
              "    </tr>\n",
              "    <tr>\n",
              "      <th>filmeId</th>\n",
              "      <th></th>\n",
              "      <th></th>\n",
              "    </tr>\n",
              "  </thead>\n",
              "  <tbody>\n",
              "    <tr>\n",
              "      <th>1</th>\n",
              "      <td>Toy Story (1995)</td>\n",
              "      <td>Adventure|Animation|Children|Comedy|Fantasy</td>\n",
              "    </tr>\n",
              "    <tr>\n",
              "      <th>2</th>\n",
              "      <td>Jumanji (1995)</td>\n",
              "      <td>Adventure|Children|Fantasy</td>\n",
              "    </tr>\n",
              "    <tr>\n",
              "      <th>3</th>\n",
              "      <td>Grumpier Old Men (1995)</td>\n",
              "      <td>Comedy|Romance</td>\n",
              "    </tr>\n",
              "    <tr>\n",
              "      <th>4</th>\n",
              "      <td>Waiting to Exhale (1995)</td>\n",
              "      <td>Comedy|Drama|Romance</td>\n",
              "    </tr>\n",
              "    <tr>\n",
              "      <th>5</th>\n",
              "      <td>Father of the Bride Part II (1995)</td>\n",
              "      <td>Comedy</td>\n",
              "    </tr>\n",
              "  </tbody>\n",
              "</table>\n",
              "</div>"
            ],
            "text/plain": [
              "                                     titulo  \\\n",
              "filmeId                                       \n",
              "1                          Toy Story (1995)   \n",
              "2                            Jumanji (1995)   \n",
              "3                   Grumpier Old Men (1995)   \n",
              "4                  Waiting to Exhale (1995)   \n",
              "5        Father of the Bride Part II (1995)   \n",
              "\n",
              "                                             generos  \n",
              "filmeId                                               \n",
              "1        Adventure|Animation|Children|Comedy|Fantasy  \n",
              "2                         Adventure|Children|Fantasy  \n",
              "3                                     Comedy|Romance  \n",
              "4                               Comedy|Drama|Romance  \n",
              "5                                             Comedy  "
            ]
          },
          "metadata": {
            "tags": []
          },
          "execution_count": 1
        }
      ]
    },
    {
      "metadata": {
        "id": "fffNtxjMZte0",
        "colab_type": "code",
        "outputId": "56d52a86-0718-40c4-bc38-406e75078978",
        "colab": {
          "base_uri": "https://localhost:8080/",
          "height": 204
        }
      },
      "cell_type": "code",
      "source": [
        "notas = pd.read_csv(\"ratings.csv\")\n",
        "notas.columns = [\"usuarioId\", \"filmeId\", \"nota\", \"momento\"]\n",
        "notas.head()"
      ],
      "execution_count": 2,
      "outputs": [
        {
          "output_type": "execute_result",
          "data": {
            "text/html": [
              "<div>\n",
              "<style scoped>\n",
              "    .dataframe tbody tr th:only-of-type {\n",
              "        vertical-align: middle;\n",
              "    }\n",
              "\n",
              "    .dataframe tbody tr th {\n",
              "        vertical-align: top;\n",
              "    }\n",
              "\n",
              "    .dataframe thead th {\n",
              "        text-align: right;\n",
              "    }\n",
              "</style>\n",
              "<table border=\"1\" class=\"dataframe\">\n",
              "  <thead>\n",
              "    <tr style=\"text-align: right;\">\n",
              "      <th></th>\n",
              "      <th>usuarioId</th>\n",
              "      <th>filmeId</th>\n",
              "      <th>nota</th>\n",
              "      <th>momento</th>\n",
              "    </tr>\n",
              "  </thead>\n",
              "  <tbody>\n",
              "    <tr>\n",
              "      <th>0</th>\n",
              "      <td>1</td>\n",
              "      <td>307</td>\n",
              "      <td>3.5</td>\n",
              "      <td>1.256677e+09</td>\n",
              "    </tr>\n",
              "    <tr>\n",
              "      <th>1</th>\n",
              "      <td>1</td>\n",
              "      <td>481</td>\n",
              "      <td>3.5</td>\n",
              "      <td>1.256677e+09</td>\n",
              "    </tr>\n",
              "    <tr>\n",
              "      <th>2</th>\n",
              "      <td>1</td>\n",
              "      <td>1091</td>\n",
              "      <td>1.5</td>\n",
              "      <td>1.256677e+09</td>\n",
              "    </tr>\n",
              "    <tr>\n",
              "      <th>3</th>\n",
              "      <td>1</td>\n",
              "      <td>1257</td>\n",
              "      <td>4.5</td>\n",
              "      <td>1.256677e+09</td>\n",
              "    </tr>\n",
              "    <tr>\n",
              "      <th>4</th>\n",
              "      <td>1</td>\n",
              "      <td>1449</td>\n",
              "      <td>4.5</td>\n",
              "      <td>1.256677e+09</td>\n",
              "    </tr>\n",
              "  </tbody>\n",
              "</table>\n",
              "</div>"
            ],
            "text/plain": [
              "   usuarioId  filmeId  nota       momento\n",
              "0          1      307   3.5  1.256677e+09\n",
              "1          1      481   3.5  1.256677e+09\n",
              "2          1     1091   1.5  1.256677e+09\n",
              "3          1     1257   4.5  1.256677e+09\n",
              "4          1     1449   4.5  1.256677e+09"
            ]
          },
          "metadata": {
            "tags": []
          },
          "execution_count": 2
        }
      ]
    },
    {
      "metadata": {
        "id": "C1enzh4uaGhj",
        "colab_type": "code",
        "outputId": "984925be-a9ce-441b-bdfd-75131b904d95",
        "colab": {
          "base_uri": "https://localhost:8080/",
          "height": 297
        }
      },
      "cell_type": "code",
      "source": [
        "notas.describe()"
      ],
      "execution_count": 3,
      "outputs": [
        {
          "output_type": "execute_result",
          "data": {
            "text/html": [
              "<div>\n",
              "<style scoped>\n",
              "    .dataframe tbody tr th:only-of-type {\n",
              "        vertical-align: middle;\n",
              "    }\n",
              "\n",
              "    .dataframe tbody tr th {\n",
              "        vertical-align: top;\n",
              "    }\n",
              "\n",
              "    .dataframe thead th {\n",
              "        text-align: right;\n",
              "    }\n",
              "</style>\n",
              "<table border=\"1\" class=\"dataframe\">\n",
              "  <thead>\n",
              "    <tr style=\"text-align: right;\">\n",
              "      <th></th>\n",
              "      <th>usuarioId</th>\n",
              "      <th>filmeId</th>\n",
              "      <th>nota</th>\n",
              "      <th>momento</th>\n",
              "    </tr>\n",
              "  </thead>\n",
              "  <tbody>\n",
              "    <tr>\n",
              "      <th>count</th>\n",
              "      <td>859603.000000</td>\n",
              "      <td>859603.000000</td>\n",
              "      <td>859602.000000</td>\n",
              "      <td>8.596020e+05</td>\n",
              "    </tr>\n",
              "    <tr>\n",
              "      <th>mean</th>\n",
              "      <td>4335.302941</td>\n",
              "      <td>18865.557447</td>\n",
              "      <td>3.514128</td>\n",
              "      <td>1.190339e+09</td>\n",
              "    </tr>\n",
              "    <tr>\n",
              "      <th>std</th>\n",
              "      <td>2511.220713</td>\n",
              "      <td>35771.746754</td>\n",
              "      <td>1.078088</td>\n",
              "      <td>2.168052e+08</td>\n",
              "    </tr>\n",
              "    <tr>\n",
              "      <th>min</th>\n",
              "      <td>1.000000</td>\n",
              "      <td>1.000000</td>\n",
              "      <td>0.500000</td>\n",
              "      <td>8.228736e+08</td>\n",
              "    </tr>\n",
              "    <tr>\n",
              "      <th>25%</th>\n",
              "      <td>2120.000000</td>\n",
              "      <td>1092.000000</td>\n",
              "      <td>3.000000</td>\n",
              "      <td>9.967940e+08</td>\n",
              "    </tr>\n",
              "    <tr>\n",
              "      <th>50%</th>\n",
              "      <td>4382.000000</td>\n",
              "      <td>2716.000000</td>\n",
              "      <td>3.500000</td>\n",
              "      <td>1.169347e+09</td>\n",
              "    </tr>\n",
              "    <tr>\n",
              "      <th>75%</th>\n",
              "      <td>6465.000000</td>\n",
              "      <td>7153.000000</td>\n",
              "      <td>4.000000</td>\n",
              "      <td>1.420514e+09</td>\n",
              "    </tr>\n",
              "    <tr>\n",
              "      <th>max</th>\n",
              "      <td>8620.000000</td>\n",
              "      <td>193861.000000</td>\n",
              "      <td>5.000000</td>\n",
              "      <td>1.537927e+09</td>\n",
              "    </tr>\n",
              "  </tbody>\n",
              "</table>\n",
              "</div>"
            ],
            "text/plain": [
              "           usuarioId        filmeId           nota       momento\n",
              "count  859603.000000  859603.000000  859602.000000  8.596020e+05\n",
              "mean     4335.302941   18865.557447       3.514128  1.190339e+09\n",
              "std      2511.220713   35771.746754       1.078088  2.168052e+08\n",
              "min         1.000000       1.000000       0.500000  8.228736e+08\n",
              "25%      2120.000000    1092.000000       3.000000  9.967940e+08\n",
              "50%      4382.000000    2716.000000       3.500000  1.169347e+09\n",
              "75%      6465.000000    7153.000000       4.000000  1.420514e+09\n",
              "max      8620.000000  193861.000000       5.000000  1.537927e+09"
            ]
          },
          "metadata": {
            "tags": []
          },
          "execution_count": 3
        }
      ]
    },
    {
      "metadata": {
        "id": "X2xLTw_haUYt",
        "colab_type": "text"
      },
      "cell_type": "markdown",
      "source": [
        "# Primeira tentativa de recomendação: heurística de total de votos"
      ]
    },
    {
      "metadata": {
        "id": "iHrT8UkhaPdv",
        "colab_type": "code",
        "outputId": "6e87e9b4-8801-4974-fc0e-5fe2c19f2ac2",
        "colab": {
          "base_uri": "https://localhost:8080/",
          "height": 119
        }
      },
      "cell_type": "code",
      "source": [
        "total_de_votos = notas[\"filmeId\"].value_counts()\n",
        "total_de_votos.head()"
      ],
      "execution_count": 4,
      "outputs": [
        {
          "output_type": "execute_result",
          "data": {
            "text/plain": [
              "356     2932\n",
              "318     2926\n",
              "296     2780\n",
              "593     2650\n",
              "2571    2528\n",
              "Name: filmeId, dtype: int64"
            ]
          },
          "metadata": {
            "tags": []
          },
          "execution_count": 4
        }
      ]
    },
    {
      "metadata": {
        "id": "V-DQ1r0bbknY",
        "colab_type": "code",
        "outputId": "507ad502-ad6a-4dcd-a961-7c0cdafa4a4d",
        "colab": {
          "base_uri": "https://localhost:8080/",
          "height": 235
        }
      },
      "cell_type": "code",
      "source": [
        "filmes['total_de_votos'] = total_de_votos\n",
        "filmes.head()"
      ],
      "execution_count": 5,
      "outputs": [
        {
          "output_type": "execute_result",
          "data": {
            "text/html": [
              "<div>\n",
              "<style scoped>\n",
              "    .dataframe tbody tr th:only-of-type {\n",
              "        vertical-align: middle;\n",
              "    }\n",
              "\n",
              "    .dataframe tbody tr th {\n",
              "        vertical-align: top;\n",
              "    }\n",
              "\n",
              "    .dataframe thead th {\n",
              "        text-align: right;\n",
              "    }\n",
              "</style>\n",
              "<table border=\"1\" class=\"dataframe\">\n",
              "  <thead>\n",
              "    <tr style=\"text-align: right;\">\n",
              "      <th></th>\n",
              "      <th>titulo</th>\n",
              "      <th>generos</th>\n",
              "      <th>total_de_votos</th>\n",
              "    </tr>\n",
              "    <tr>\n",
              "      <th>filmeId</th>\n",
              "      <th></th>\n",
              "      <th></th>\n",
              "      <th></th>\n",
              "    </tr>\n",
              "  </thead>\n",
              "  <tbody>\n",
              "    <tr>\n",
              "      <th>1</th>\n",
              "      <td>Toy Story (1995)</td>\n",
              "      <td>Adventure|Animation|Children|Comedy|Fantasy</td>\n",
              "      <td>2107.0</td>\n",
              "    </tr>\n",
              "    <tr>\n",
              "      <th>2</th>\n",
              "      <td>Jumanji (1995)</td>\n",
              "      <td>Adventure|Children|Fantasy</td>\n",
              "      <td>817.0</td>\n",
              "    </tr>\n",
              "    <tr>\n",
              "      <th>3</th>\n",
              "      <td>Grumpier Old Men (1995)</td>\n",
              "      <td>Comedy|Romance</td>\n",
              "      <td>508.0</td>\n",
              "    </tr>\n",
              "    <tr>\n",
              "      <th>4</th>\n",
              "      <td>Waiting to Exhale (1995)</td>\n",
              "      <td>Comedy|Drama|Romance</td>\n",
              "      <td>112.0</td>\n",
              "    </tr>\n",
              "    <tr>\n",
              "      <th>5</th>\n",
              "      <td>Father of the Bride Part II (1995)</td>\n",
              "      <td>Comedy</td>\n",
              "      <td>474.0</td>\n",
              "    </tr>\n",
              "  </tbody>\n",
              "</table>\n",
              "</div>"
            ],
            "text/plain": [
              "                                     titulo  \\\n",
              "filmeId                                       \n",
              "1                          Toy Story (1995)   \n",
              "2                            Jumanji (1995)   \n",
              "3                   Grumpier Old Men (1995)   \n",
              "4                  Waiting to Exhale (1995)   \n",
              "5        Father of the Bride Part II (1995)   \n",
              "\n",
              "                                             generos  total_de_votos  \n",
              "filmeId                                                               \n",
              "1        Adventure|Animation|Children|Comedy|Fantasy          2107.0  \n",
              "2                         Adventure|Children|Fantasy           817.0  \n",
              "3                                     Comedy|Romance           508.0  \n",
              "4                               Comedy|Drama|Romance           112.0  \n",
              "5                                             Comedy           474.0  "
            ]
          },
          "metadata": {
            "tags": []
          },
          "execution_count": 5
        }
      ]
    },
    {
      "metadata": {
        "id": "dDDE1SVobX6f",
        "colab_type": "code",
        "outputId": "3d918d38-c5fa-42b3-9d84-cf34fdf469df",
        "colab": {
          "base_uri": "https://localhost:8080/",
          "height": 390
        }
      },
      "cell_type": "code",
      "source": [
        "filmes.sort_values(\"total_de_votos\", ascending = False).head(10)"
      ],
      "execution_count": 6,
      "outputs": [
        {
          "output_type": "execute_result",
          "data": {
            "text/html": [
              "<div>\n",
              "<style scoped>\n",
              "    .dataframe tbody tr th:only-of-type {\n",
              "        vertical-align: middle;\n",
              "    }\n",
              "\n",
              "    .dataframe tbody tr th {\n",
              "        vertical-align: top;\n",
              "    }\n",
              "\n",
              "    .dataframe thead th {\n",
              "        text-align: right;\n",
              "    }\n",
              "</style>\n",
              "<table border=\"1\" class=\"dataframe\">\n",
              "  <thead>\n",
              "    <tr style=\"text-align: right;\">\n",
              "      <th></th>\n",
              "      <th>titulo</th>\n",
              "      <th>generos</th>\n",
              "      <th>total_de_votos</th>\n",
              "    </tr>\n",
              "    <tr>\n",
              "      <th>filmeId</th>\n",
              "      <th></th>\n",
              "      <th></th>\n",
              "      <th></th>\n",
              "    </tr>\n",
              "  </thead>\n",
              "  <tbody>\n",
              "    <tr>\n",
              "      <th>356</th>\n",
              "      <td>Forrest Gump (1994)</td>\n",
              "      <td>Comedy|Drama|Romance|War</td>\n",
              "      <td>2932.0</td>\n",
              "    </tr>\n",
              "    <tr>\n",
              "      <th>318</th>\n",
              "      <td>Shawshank Redemption, The (1994)</td>\n",
              "      <td>Crime|Drama</td>\n",
              "      <td>2926.0</td>\n",
              "    </tr>\n",
              "    <tr>\n",
              "      <th>296</th>\n",
              "      <td>Pulp Fiction (1994)</td>\n",
              "      <td>Comedy|Crime|Drama|Thriller</td>\n",
              "      <td>2780.0</td>\n",
              "    </tr>\n",
              "    <tr>\n",
              "      <th>593</th>\n",
              "      <td>Silence of the Lambs, The (1991)</td>\n",
              "      <td>Crime|Horror|Thriller</td>\n",
              "      <td>2650.0</td>\n",
              "    </tr>\n",
              "    <tr>\n",
              "      <th>2571</th>\n",
              "      <td>Matrix, The (1999)</td>\n",
              "      <td>Action|Sci-Fi|Thriller</td>\n",
              "      <td>2528.0</td>\n",
              "    </tr>\n",
              "    <tr>\n",
              "      <th>260</th>\n",
              "      <td>Star Wars: Episode IV - A New Hope (1977)</td>\n",
              "      <td>Action|Adventure|Sci-Fi</td>\n",
              "      <td>2478.0</td>\n",
              "    </tr>\n",
              "    <tr>\n",
              "      <th>480</th>\n",
              "      <td>Jurassic Park (1993)</td>\n",
              "      <td>Action|Adventure|Sci-Fi|Thriller</td>\n",
              "      <td>2262.0</td>\n",
              "    </tr>\n",
              "    <tr>\n",
              "      <th>527</th>\n",
              "      <td>Schindler's List (1993)</td>\n",
              "      <td>Drama|War</td>\n",
              "      <td>2156.0</td>\n",
              "    </tr>\n",
              "    <tr>\n",
              "      <th>110</th>\n",
              "      <td>Braveheart (1995)</td>\n",
              "      <td>Action|Drama|War</td>\n",
              "      <td>2121.0</td>\n",
              "    </tr>\n",
              "    <tr>\n",
              "      <th>1</th>\n",
              "      <td>Toy Story (1995)</td>\n",
              "      <td>Adventure|Animation|Children|Comedy|Fantasy</td>\n",
              "      <td>2107.0</td>\n",
              "    </tr>\n",
              "  </tbody>\n",
              "</table>\n",
              "</div>"
            ],
            "text/plain": [
              "                                            titulo  \\\n",
              "filmeId                                              \n",
              "356                            Forrest Gump (1994)   \n",
              "318               Shawshank Redemption, The (1994)   \n",
              "296                            Pulp Fiction (1994)   \n",
              "593               Silence of the Lambs, The (1991)   \n",
              "2571                            Matrix, The (1999)   \n",
              "260      Star Wars: Episode IV - A New Hope (1977)   \n",
              "480                           Jurassic Park (1993)   \n",
              "527                        Schindler's List (1993)   \n",
              "110                              Braveheart (1995)   \n",
              "1                                 Toy Story (1995)   \n",
              "\n",
              "                                             generos  total_de_votos  \n",
              "filmeId                                                               \n",
              "356                         Comedy|Drama|Romance|War          2932.0  \n",
              "318                                      Crime|Drama          2926.0  \n",
              "296                      Comedy|Crime|Drama|Thriller          2780.0  \n",
              "593                            Crime|Horror|Thriller          2650.0  \n",
              "2571                          Action|Sci-Fi|Thriller          2528.0  \n",
              "260                          Action|Adventure|Sci-Fi          2478.0  \n",
              "480                 Action|Adventure|Sci-Fi|Thriller          2262.0  \n",
              "527                                        Drama|War          2156.0  \n",
              "110                                 Action|Drama|War          2121.0  \n",
              "1        Adventure|Animation|Children|Comedy|Fantasy          2107.0  "
            ]
          },
          "metadata": {
            "tags": []
          },
          "execution_count": 6
        }
      ]
    },
    {
      "metadata": {
        "id": "hb0s4XR1ca6s",
        "colab_type": "code",
        "outputId": "68a33b2f-67df-4ade-be1e-9bb1731fb735",
        "colab": {
          "base_uri": "https://localhost:8080/",
          "height": 136
        }
      },
      "cell_type": "code",
      "source": [
        "notas_medias = notas.groupby(\"filmeId\").mean()[\"nota\"]\n",
        "notas_medias.head()"
      ],
      "execution_count": 7,
      "outputs": [
        {
          "output_type": "execute_result",
          "data": {
            "text/plain": [
              "filmeId\n",
              "1    3.871144\n",
              "2    3.197674\n",
              "3    3.184055\n",
              "4    2.928571\n",
              "5    3.024262\n",
              "Name: nota, dtype: float64"
            ]
          },
          "metadata": {
            "tags": []
          },
          "execution_count": 7
        }
      ]
    },
    {
      "metadata": {
        "id": "HrZC0YaBd79e",
        "colab_type": "code",
        "outputId": "3cdcf47d-33a7-4159-cf93-9bb2ff8f050e",
        "colab": {
          "base_uri": "https://localhost:8080/",
          "height": 390
        }
      },
      "cell_type": "code",
      "source": [
        "filmes[\"nota_media\"] = notas_medias\n",
        "filmes.sort_values(\"total_de_votos\", ascending = False).head(10)"
      ],
      "execution_count": 8,
      "outputs": [
        {
          "output_type": "execute_result",
          "data": {
            "text/html": [
              "<div>\n",
              "<style scoped>\n",
              "    .dataframe tbody tr th:only-of-type {\n",
              "        vertical-align: middle;\n",
              "    }\n",
              "\n",
              "    .dataframe tbody tr th {\n",
              "        vertical-align: top;\n",
              "    }\n",
              "\n",
              "    .dataframe thead th {\n",
              "        text-align: right;\n",
              "    }\n",
              "</style>\n",
              "<table border=\"1\" class=\"dataframe\">\n",
              "  <thead>\n",
              "    <tr style=\"text-align: right;\">\n",
              "      <th></th>\n",
              "      <th>titulo</th>\n",
              "      <th>generos</th>\n",
              "      <th>total_de_votos</th>\n",
              "      <th>nota_media</th>\n",
              "    </tr>\n",
              "    <tr>\n",
              "      <th>filmeId</th>\n",
              "      <th></th>\n",
              "      <th></th>\n",
              "      <th></th>\n",
              "      <th></th>\n",
              "    </tr>\n",
              "  </thead>\n",
              "  <tbody>\n",
              "    <tr>\n",
              "      <th>356</th>\n",
              "      <td>Forrest Gump (1994)</td>\n",
              "      <td>Comedy|Drama|Romance|War</td>\n",
              "      <td>2932.0</td>\n",
              "      <td>4.058492</td>\n",
              "    </tr>\n",
              "    <tr>\n",
              "      <th>318</th>\n",
              "      <td>Shawshank Redemption, The (1994)</td>\n",
              "      <td>Crime|Drama</td>\n",
              "      <td>2926.0</td>\n",
              "      <td>4.409433</td>\n",
              "    </tr>\n",
              "    <tr>\n",
              "      <th>296</th>\n",
              "      <td>Pulp Fiction (1994)</td>\n",
              "      <td>Comedy|Crime|Drama|Thriller</td>\n",
              "      <td>2780.0</td>\n",
              "      <td>4.166906</td>\n",
              "    </tr>\n",
              "    <tr>\n",
              "      <th>593</th>\n",
              "      <td>Silence of the Lambs, The (1991)</td>\n",
              "      <td>Crime|Horror|Thriller</td>\n",
              "      <td>2650.0</td>\n",
              "      <td>4.130943</td>\n",
              "    </tr>\n",
              "    <tr>\n",
              "      <th>2571</th>\n",
              "      <td>Matrix, The (1999)</td>\n",
              "      <td>Action|Sci-Fi|Thriller</td>\n",
              "      <td>2528.0</td>\n",
              "      <td>4.141021</td>\n",
              "    </tr>\n",
              "    <tr>\n",
              "      <th>260</th>\n",
              "      <td>Star Wars: Episode IV - A New Hope (1977)</td>\n",
              "      <td>Action|Adventure|Sci-Fi</td>\n",
              "      <td>2478.0</td>\n",
              "      <td>4.124294</td>\n",
              "    </tr>\n",
              "    <tr>\n",
              "      <th>480</th>\n",
              "      <td>Jurassic Park (1993)</td>\n",
              "      <td>Action|Adventure|Sci-Fi|Thriller</td>\n",
              "      <td>2262.0</td>\n",
              "      <td>3.681256</td>\n",
              "    </tr>\n",
              "    <tr>\n",
              "      <th>527</th>\n",
              "      <td>Schindler's List (1993)</td>\n",
              "      <td>Drama|War</td>\n",
              "      <td>2156.0</td>\n",
              "      <td>4.232607</td>\n",
              "    </tr>\n",
              "    <tr>\n",
              "      <th>110</th>\n",
              "      <td>Braveheart (1995)</td>\n",
              "      <td>Action|Drama|War</td>\n",
              "      <td>2121.0</td>\n",
              "      <td>4.008722</td>\n",
              "    </tr>\n",
              "    <tr>\n",
              "      <th>1</th>\n",
              "      <td>Toy Story (1995)</td>\n",
              "      <td>Adventure|Animation|Children|Comedy|Fantasy</td>\n",
              "      <td>2107.0</td>\n",
              "      <td>3.871144</td>\n",
              "    </tr>\n",
              "  </tbody>\n",
              "</table>\n",
              "</div>"
            ],
            "text/plain": [
              "                                            titulo  \\\n",
              "filmeId                                              \n",
              "356                            Forrest Gump (1994)   \n",
              "318               Shawshank Redemption, The (1994)   \n",
              "296                            Pulp Fiction (1994)   \n",
              "593               Silence of the Lambs, The (1991)   \n",
              "2571                            Matrix, The (1999)   \n",
              "260      Star Wars: Episode IV - A New Hope (1977)   \n",
              "480                           Jurassic Park (1993)   \n",
              "527                        Schindler's List (1993)   \n",
              "110                              Braveheart (1995)   \n",
              "1                                 Toy Story (1995)   \n",
              "\n",
              "                                             generos  total_de_votos  \\\n",
              "filmeId                                                                \n",
              "356                         Comedy|Drama|Romance|War          2932.0   \n",
              "318                                      Crime|Drama          2926.0   \n",
              "296                      Comedy|Crime|Drama|Thriller          2780.0   \n",
              "593                            Crime|Horror|Thriller          2650.0   \n",
              "2571                          Action|Sci-Fi|Thriller          2528.0   \n",
              "260                          Action|Adventure|Sci-Fi          2478.0   \n",
              "480                 Action|Adventure|Sci-Fi|Thriller          2262.0   \n",
              "527                                        Drama|War          2156.0   \n",
              "110                                 Action|Drama|War          2121.0   \n",
              "1        Adventure|Animation|Children|Comedy|Fantasy          2107.0   \n",
              "\n",
              "         nota_media  \n",
              "filmeId              \n",
              "356        4.058492  \n",
              "318        4.409433  \n",
              "296        4.166906  \n",
              "593        4.130943  \n",
              "2571       4.141021  \n",
              "260        4.124294  \n",
              "480        3.681256  \n",
              "527        4.232607  \n",
              "110        4.008722  \n",
              "1          3.871144  "
            ]
          },
          "metadata": {
            "tags": []
          },
          "execution_count": 8
        }
      ]
    },
    {
      "metadata": {
        "id": "HE8Bfat0erQo",
        "colab_type": "text"
      },
      "cell_type": "markdown",
      "source": [
        "# Uma segunda heurística: nota média e filtrando votos"
      ]
    },
    {
      "metadata": {
        "id": "5gC0d4mleRCc",
        "colab_type": "code",
        "outputId": "e30e07b7-1108-4ad0-814f-bfcf903e2055",
        "colab": {
          "base_uri": "https://localhost:8080/",
          "height": 390
        }
      },
      "cell_type": "code",
      "source": [
        "filmes.sort_values(\"nota_media\", ascending = False).head(10)"
      ],
      "execution_count": 9,
      "outputs": [
        {
          "output_type": "execute_result",
          "data": {
            "text/html": [
              "<div>\n",
              "<style scoped>\n",
              "    .dataframe tbody tr th:only-of-type {\n",
              "        vertical-align: middle;\n",
              "    }\n",
              "\n",
              "    .dataframe tbody tr th {\n",
              "        vertical-align: top;\n",
              "    }\n",
              "\n",
              "    .dataframe thead th {\n",
              "        text-align: right;\n",
              "    }\n",
              "</style>\n",
              "<table border=\"1\" class=\"dataframe\">\n",
              "  <thead>\n",
              "    <tr style=\"text-align: right;\">\n",
              "      <th></th>\n",
              "      <th>titulo</th>\n",
              "      <th>generos</th>\n",
              "      <th>total_de_votos</th>\n",
              "      <th>nota_media</th>\n",
              "    </tr>\n",
              "    <tr>\n",
              "      <th>filmeId</th>\n",
              "      <th></th>\n",
              "      <th></th>\n",
              "      <th></th>\n",
              "      <th></th>\n",
              "    </tr>\n",
              "  </thead>\n",
              "  <tbody>\n",
              "    <tr>\n",
              "      <th>160824</th>\n",
              "      <td>W.A.R.: Women Against Rape (1987)</td>\n",
              "      <td>Drama|Thriller</td>\n",
              "      <td>1.0</td>\n",
              "      <td>5.0</td>\n",
              "    </tr>\n",
              "    <tr>\n",
              "      <th>7214</th>\n",
              "      <td>Kiss Them for Me (1957)</td>\n",
              "      <td>Comedy|Romance|War</td>\n",
              "      <td>1.0</td>\n",
              "      <td>5.0</td>\n",
              "    </tr>\n",
              "    <tr>\n",
              "      <th>159423</th>\n",
              "      <td>Jonas Brothers: The Concert Experience (2009)</td>\n",
              "      <td>(no genres listed)</td>\n",
              "      <td>1.0</td>\n",
              "      <td>5.0</td>\n",
              "    </tr>\n",
              "    <tr>\n",
              "      <th>1622</th>\n",
              "      <td>Kicked in the Head (1997)</td>\n",
              "      <td>Comedy|Drama</td>\n",
              "      <td>1.0</td>\n",
              "      <td>5.0</td>\n",
              "    </tr>\n",
              "    <tr>\n",
              "      <th>112066</th>\n",
              "      <td>Letter to Momo, A (Momo e no tegami) (2011)</td>\n",
              "      <td>Animation|Drama</td>\n",
              "      <td>1.0</td>\n",
              "      <td>5.0</td>\n",
              "    </tr>\n",
              "    <tr>\n",
              "      <th>158958</th>\n",
              "      <td>Pollyanna (2003)</td>\n",
              "      <td>Children|Drama</td>\n",
              "      <td>1.0</td>\n",
              "      <td>5.0</td>\n",
              "    </tr>\n",
              "    <tr>\n",
              "      <th>112081</th>\n",
              "      <td>Shape of Things to Come, The (1979)</td>\n",
              "      <td>Sci-Fi</td>\n",
              "      <td>1.0</td>\n",
              "      <td>5.0</td>\n",
              "    </tr>\n",
              "    <tr>\n",
              "      <th>43269</th>\n",
              "      <td>Bombón: El Perro (El perro) (2004)</td>\n",
              "      <td>Comedy|Drama</td>\n",
              "      <td>1.0</td>\n",
              "      <td>5.0</td>\n",
              "    </tr>\n",
              "    <tr>\n",
              "      <th>113236</th>\n",
              "      <td>Abby (1974)</td>\n",
              "      <td>Horror</td>\n",
              "      <td>1.0</td>\n",
              "      <td>5.0</td>\n",
              "    </tr>\n",
              "    <tr>\n",
              "      <th>1630</th>\n",
              "      <td>Lay of the Land, The (1997)</td>\n",
              "      <td>Comedy|Drama</td>\n",
              "      <td>1.0</td>\n",
              "      <td>5.0</td>\n",
              "    </tr>\n",
              "  </tbody>\n",
              "</table>\n",
              "</div>"
            ],
            "text/plain": [
              "                                                titulo             generos  \\\n",
              "filmeId                                                                      \n",
              "160824               W.A.R.: Women Against Rape (1987)      Drama|Thriller   \n",
              "7214                           Kiss Them for Me (1957)  Comedy|Romance|War   \n",
              "159423   Jonas Brothers: The Concert Experience (2009)  (no genres listed)   \n",
              "1622                         Kicked in the Head (1997)        Comedy|Drama   \n",
              "112066     Letter to Momo, A (Momo e no tegami) (2011)     Animation|Drama   \n",
              "158958                                Pollyanna (2003)      Children|Drama   \n",
              "112081             Shape of Things to Come, The (1979)              Sci-Fi   \n",
              "43269               Bombón: El Perro (El perro) (2004)        Comedy|Drama   \n",
              "113236                                     Abby (1974)              Horror   \n",
              "1630                       Lay of the Land, The (1997)        Comedy|Drama   \n",
              "\n",
              "         total_de_votos  nota_media  \n",
              "filmeId                              \n",
              "160824              1.0         5.0  \n",
              "7214                1.0         5.0  \n",
              "159423              1.0         5.0  \n",
              "1622                1.0         5.0  \n",
              "112066              1.0         5.0  \n",
              "158958              1.0         5.0  \n",
              "112081              1.0         5.0  \n",
              "43269               1.0         5.0  \n",
              "113236              1.0         5.0  \n",
              "1630                1.0         5.0  "
            ]
          },
          "metadata": {
            "tags": []
          },
          "execution_count": 9
        }
      ]
    },
    {
      "metadata": {
        "id": "q_pi0S5fe027",
        "colab_type": "code",
        "outputId": "68f4705d-8479-4b27-f9a8-fe1068c5525e",
        "colab": {
          "base_uri": "https://localhost:8080/",
          "height": 390
        }
      },
      "cell_type": "code",
      "source": [
        "filmes.query(\"total_de_votos >= 10\").sort_values(\"nota_media\", ascending = False).head(10)"
      ],
      "execution_count": 10,
      "outputs": [
        {
          "output_type": "execute_result",
          "data": {
            "text/html": [
              "<div>\n",
              "<style scoped>\n",
              "    .dataframe tbody tr th:only-of-type {\n",
              "        vertical-align: middle;\n",
              "    }\n",
              "\n",
              "    .dataframe tbody tr th {\n",
              "        vertical-align: top;\n",
              "    }\n",
              "\n",
              "    .dataframe thead th {\n",
              "        text-align: right;\n",
              "    }\n",
              "</style>\n",
              "<table border=\"1\" class=\"dataframe\">\n",
              "  <thead>\n",
              "    <tr style=\"text-align: right;\">\n",
              "      <th></th>\n",
              "      <th>titulo</th>\n",
              "      <th>generos</th>\n",
              "      <th>total_de_votos</th>\n",
              "      <th>nota_media</th>\n",
              "    </tr>\n",
              "    <tr>\n",
              "      <th>filmeId</th>\n",
              "      <th></th>\n",
              "      <th></th>\n",
              "      <th></th>\n",
              "      <th></th>\n",
              "    </tr>\n",
              "  </thead>\n",
              "  <tbody>\n",
              "    <tr>\n",
              "      <th>99764</th>\n",
              "      <td>It's Such a Beautiful Day (2012)</td>\n",
              "      <td>Animation|Comedy|Drama|Fantasy|Sci-Fi</td>\n",
              "      <td>13.0</td>\n",
              "      <td>4.461538</td>\n",
              "    </tr>\n",
              "    <tr>\n",
              "      <th>26743</th>\n",
              "      <td>Only Yesterday (Omohide poro poro) (1991)</td>\n",
              "      <td>Animation|Drama</td>\n",
              "      <td>11.0</td>\n",
              "      <td>4.454545</td>\n",
              "    </tr>\n",
              "    <tr>\n",
              "      <th>4999</th>\n",
              "      <td>Dodsworth (1936)</td>\n",
              "      <td>Drama|Romance</td>\n",
              "      <td>11.0</td>\n",
              "      <td>4.454545</td>\n",
              "    </tr>\n",
              "    <tr>\n",
              "      <th>163809</th>\n",
              "      <td>Over the Garden Wall (2013)</td>\n",
              "      <td>Adventure|Animation|Drama</td>\n",
              "      <td>10.0</td>\n",
              "      <td>4.450000</td>\n",
              "    </tr>\n",
              "    <tr>\n",
              "      <th>318</th>\n",
              "      <td>Shawshank Redemption, The (1994)</td>\n",
              "      <td>Crime|Drama</td>\n",
              "      <td>2926.0</td>\n",
              "      <td>4.409433</td>\n",
              "    </tr>\n",
              "    <tr>\n",
              "      <th>5604</th>\n",
              "      <td>Man in the White Suit, The (1951)</td>\n",
              "      <td>Comedy|Sci-Fi</td>\n",
              "      <td>15.0</td>\n",
              "      <td>4.400000</td>\n",
              "    </tr>\n",
              "    <tr>\n",
              "      <th>131724</th>\n",
              "      <td>The Jinx: The Life and Deaths of Robert Durst ...</td>\n",
              "      <td>Documentary</td>\n",
              "      <td>33.0</td>\n",
              "      <td>4.393939</td>\n",
              "    </tr>\n",
              "    <tr>\n",
              "      <th>6896</th>\n",
              "      <td>Shoah (1985)</td>\n",
              "      <td>Documentary|War</td>\n",
              "      <td>13.0</td>\n",
              "      <td>4.384615</td>\n",
              "    </tr>\n",
              "    <tr>\n",
              "      <th>136449</th>\n",
              "      <td>Ghost in the Shell 2.0 (2008)</td>\n",
              "      <td>Action|Animation|Sci-Fi</td>\n",
              "      <td>17.0</td>\n",
              "      <td>4.382353</td>\n",
              "    </tr>\n",
              "    <tr>\n",
              "      <th>170705</th>\n",
              "      <td>Band of Brothers (2001)</td>\n",
              "      <td>Action|Drama|War</td>\n",
              "      <td>33.0</td>\n",
              "      <td>4.378788</td>\n",
              "    </tr>\n",
              "  </tbody>\n",
              "</table>\n",
              "</div>"
            ],
            "text/plain": [
              "                                                    titulo  \\\n",
              "filmeId                                                      \n",
              "99764                     It's Such a Beautiful Day (2012)   \n",
              "26743            Only Yesterday (Omohide poro poro) (1991)   \n",
              "4999                                      Dodsworth (1936)   \n",
              "163809                         Over the Garden Wall (2013)   \n",
              "318                       Shawshank Redemption, The (1994)   \n",
              "5604                     Man in the White Suit, The (1951)   \n",
              "131724   The Jinx: The Life and Deaths of Robert Durst ...   \n",
              "6896                                          Shoah (1985)   \n",
              "136449                       Ghost in the Shell 2.0 (2008)   \n",
              "170705                             Band of Brothers (2001)   \n",
              "\n",
              "                                       generos  total_de_votos  nota_media  \n",
              "filmeId                                                                     \n",
              "99764    Animation|Comedy|Drama|Fantasy|Sci-Fi            13.0    4.461538  \n",
              "26743                          Animation|Drama            11.0    4.454545  \n",
              "4999                             Drama|Romance            11.0    4.454545  \n",
              "163809               Adventure|Animation|Drama            10.0    4.450000  \n",
              "318                                Crime|Drama          2926.0    4.409433  \n",
              "5604                             Comedy|Sci-Fi            15.0    4.400000  \n",
              "131724                             Documentary            33.0    4.393939  \n",
              "6896                           Documentary|War            13.0    4.384615  \n",
              "136449                 Action|Animation|Sci-Fi            17.0    4.382353  \n",
              "170705                        Action|Drama|War            33.0    4.378788  "
            ]
          },
          "metadata": {
            "tags": []
          },
          "execution_count": 10
        }
      ]
    },
    {
      "metadata": {
        "id": "xyqPlckAfZSw",
        "colab_type": "code",
        "outputId": "9ca8b7a8-6d9a-4aa2-c795-13ae81d61531",
        "colab": {
          "base_uri": "https://localhost:8080/",
          "height": 390
        }
      },
      "cell_type": "code",
      "source": [
        "filmes_com_mais_de_50_votos = filmes.query(\"total_de_votos >= 50\")\n",
        "filmes_com_mais_de_50_votos.sort_values(\"nota_media\", ascending = False).head(10)\n"
      ],
      "execution_count": 11,
      "outputs": [
        {
          "output_type": "execute_result",
          "data": {
            "text/html": [
              "<div>\n",
              "<style scoped>\n",
              "    .dataframe tbody tr th:only-of-type {\n",
              "        vertical-align: middle;\n",
              "    }\n",
              "\n",
              "    .dataframe tbody tr th {\n",
              "        vertical-align: top;\n",
              "    }\n",
              "\n",
              "    .dataframe thead th {\n",
              "        text-align: right;\n",
              "    }\n",
              "</style>\n",
              "<table border=\"1\" class=\"dataframe\">\n",
              "  <thead>\n",
              "    <tr style=\"text-align: right;\">\n",
              "      <th></th>\n",
              "      <th>titulo</th>\n",
              "      <th>generos</th>\n",
              "      <th>total_de_votos</th>\n",
              "      <th>nota_media</th>\n",
              "    </tr>\n",
              "    <tr>\n",
              "      <th>filmeId</th>\n",
              "      <th></th>\n",
              "      <th></th>\n",
              "      <th></th>\n",
              "      <th></th>\n",
              "    </tr>\n",
              "  </thead>\n",
              "  <tbody>\n",
              "    <tr>\n",
              "      <th>318</th>\n",
              "      <td>Shawshank Redemption, The (1994)</td>\n",
              "      <td>Crime|Drama</td>\n",
              "      <td>2926.0</td>\n",
              "      <td>4.409433</td>\n",
              "    </tr>\n",
              "    <tr>\n",
              "      <th>858</th>\n",
              "      <td>Godfather, The (1972)</td>\n",
              "      <td>Crime|Drama</td>\n",
              "      <td>1836.0</td>\n",
              "      <td>4.307462</td>\n",
              "    </tr>\n",
              "    <tr>\n",
              "      <th>50</th>\n",
              "      <td>Usual Suspects, The (1995)</td>\n",
              "      <td>Crime|Mystery|Thriller</td>\n",
              "      <td>1897.0</td>\n",
              "      <td>4.303374</td>\n",
              "    </tr>\n",
              "    <tr>\n",
              "      <th>1203</th>\n",
              "      <td>12 Angry Men (1957)</td>\n",
              "      <td>Drama</td>\n",
              "      <td>527.0</td>\n",
              "      <td>4.264706</td>\n",
              "    </tr>\n",
              "    <tr>\n",
              "      <th>1221</th>\n",
              "      <td>Godfather: Part II, The (1974)</td>\n",
              "      <td>Crime|Drama</td>\n",
              "      <td>1212.0</td>\n",
              "      <td>4.261139</td>\n",
              "    </tr>\n",
              "    <tr>\n",
              "      <th>926</th>\n",
              "      <td>All About Eve (1950)</td>\n",
              "      <td>Drama</td>\n",
              "      <td>170.0</td>\n",
              "      <td>4.255882</td>\n",
              "    </tr>\n",
              "    <tr>\n",
              "      <th>2019</th>\n",
              "      <td>Seven Samurai (Shichinin no samurai) (1954)</td>\n",
              "      <td>Action|Adventure|Drama</td>\n",
              "      <td>431.0</td>\n",
              "      <td>4.249420</td>\n",
              "    </tr>\n",
              "    <tr>\n",
              "      <th>3435</th>\n",
              "      <td>Double Indemnity (1944)</td>\n",
              "      <td>Crime|Drama|Film-Noir</td>\n",
              "      <td>173.0</td>\n",
              "      <td>4.248555</td>\n",
              "    </tr>\n",
              "    <tr>\n",
              "      <th>150548</th>\n",
              "      <td>Sherlock: The Abominable Bride (2016)</td>\n",
              "      <td>Action|Crime|Drama|Mystery|Thriller</td>\n",
              "      <td>78.0</td>\n",
              "      <td>4.243590</td>\n",
              "    </tr>\n",
              "    <tr>\n",
              "      <th>904</th>\n",
              "      <td>Rear Window (1954)</td>\n",
              "      <td>Mystery|Thriller</td>\n",
              "      <td>654.0</td>\n",
              "      <td>4.237003</td>\n",
              "    </tr>\n",
              "  </tbody>\n",
              "</table>\n",
              "</div>"
            ],
            "text/plain": [
              "                                              titulo  \\\n",
              "filmeId                                                \n",
              "318                 Shawshank Redemption, The (1994)   \n",
              "858                            Godfather, The (1972)   \n",
              "50                        Usual Suspects, The (1995)   \n",
              "1203                             12 Angry Men (1957)   \n",
              "1221                  Godfather: Part II, The (1974)   \n",
              "926                             All About Eve (1950)   \n",
              "2019     Seven Samurai (Shichinin no samurai) (1954)   \n",
              "3435                         Double Indemnity (1944)   \n",
              "150548         Sherlock: The Abominable Bride (2016)   \n",
              "904                               Rear Window (1954)   \n",
              "\n",
              "                                     generos  total_de_votos  nota_media  \n",
              "filmeId                                                                   \n",
              "318                              Crime|Drama          2926.0    4.409433  \n",
              "858                              Crime|Drama          1836.0    4.307462  \n",
              "50                    Crime|Mystery|Thriller          1897.0    4.303374  \n",
              "1203                                   Drama           527.0    4.264706  \n",
              "1221                             Crime|Drama          1212.0    4.261139  \n",
              "926                                    Drama           170.0    4.255882  \n",
              "2019                  Action|Adventure|Drama           431.0    4.249420  \n",
              "3435                   Crime|Drama|Film-Noir           173.0    4.248555  \n",
              "150548   Action|Crime|Drama|Mystery|Thriller            78.0    4.243590  \n",
              "904                         Mystery|Thriller           654.0    4.237003  "
            ]
          },
          "metadata": {
            "tags": []
          },
          "execution_count": 11
        }
      ]
    },
    {
      "metadata": {
        "id": "E-q95An3fmNT",
        "colab_type": "code",
        "outputId": "791f6391-99b8-4215-efcd-86a6801c85ec",
        "colab": {
          "base_uri": "https://localhost:8080/",
          "height": 297
        }
      },
      "cell_type": "code",
      "source": [
        "eu_assisti = [1, 21, 19, 10, 11, 7, 2]\n",
        "filmes.loc[eu_assisti]"
      ],
      "execution_count": 12,
      "outputs": [
        {
          "output_type": "execute_result",
          "data": {
            "text/html": [
              "<div>\n",
              "<style scoped>\n",
              "    .dataframe tbody tr th:only-of-type {\n",
              "        vertical-align: middle;\n",
              "    }\n",
              "\n",
              "    .dataframe tbody tr th {\n",
              "        vertical-align: top;\n",
              "    }\n",
              "\n",
              "    .dataframe thead th {\n",
              "        text-align: right;\n",
              "    }\n",
              "</style>\n",
              "<table border=\"1\" class=\"dataframe\">\n",
              "  <thead>\n",
              "    <tr style=\"text-align: right;\">\n",
              "      <th></th>\n",
              "      <th>titulo</th>\n",
              "      <th>generos</th>\n",
              "      <th>total_de_votos</th>\n",
              "      <th>nota_media</th>\n",
              "    </tr>\n",
              "    <tr>\n",
              "      <th>filmeId</th>\n",
              "      <th></th>\n",
              "      <th></th>\n",
              "      <th></th>\n",
              "      <th></th>\n",
              "    </tr>\n",
              "  </thead>\n",
              "  <tbody>\n",
              "    <tr>\n",
              "      <th>1</th>\n",
              "      <td>Toy Story (1995)</td>\n",
              "      <td>Adventure|Animation|Children|Comedy|Fantasy</td>\n",
              "      <td>2107.0</td>\n",
              "      <td>3.871144</td>\n",
              "    </tr>\n",
              "    <tr>\n",
              "      <th>21</th>\n",
              "      <td>Get Shorty (1995)</td>\n",
              "      <td>Comedy|Crime|Thriller</td>\n",
              "      <td>781.0</td>\n",
              "      <td>3.533931</td>\n",
              "    </tr>\n",
              "    <tr>\n",
              "      <th>19</th>\n",
              "      <td>Ace Ventura: When Nature Calls (1995)</td>\n",
              "      <td>Comedy</td>\n",
              "      <td>795.0</td>\n",
              "      <td>2.646541</td>\n",
              "    </tr>\n",
              "    <tr>\n",
              "      <th>10</th>\n",
              "      <td>GoldenEye (1995)</td>\n",
              "      <td>Action|Adventure|Thriller</td>\n",
              "      <td>1013.0</td>\n",
              "      <td>3.478282</td>\n",
              "    </tr>\n",
              "    <tr>\n",
              "      <th>11</th>\n",
              "      <td>American President, The (1995)</td>\n",
              "      <td>Comedy|Drama|Romance</td>\n",
              "      <td>603.0</td>\n",
              "      <td>3.629353</td>\n",
              "    </tr>\n",
              "    <tr>\n",
              "      <th>7</th>\n",
              "      <td>Sabrina (1995)</td>\n",
              "      <td>Comedy|Romance</td>\n",
              "      <td>493.0</td>\n",
              "      <td>3.338742</td>\n",
              "    </tr>\n",
              "    <tr>\n",
              "      <th>2</th>\n",
              "      <td>Jumanji (1995)</td>\n",
              "      <td>Adventure|Children|Fantasy</td>\n",
              "      <td>817.0</td>\n",
              "      <td>3.197674</td>\n",
              "    </tr>\n",
              "  </tbody>\n",
              "</table>\n",
              "</div>"
            ],
            "text/plain": [
              "                                        titulo  \\\n",
              "filmeId                                          \n",
              "1                             Toy Story (1995)   \n",
              "21                           Get Shorty (1995)   \n",
              "19       Ace Ventura: When Nature Calls (1995)   \n",
              "10                            GoldenEye (1995)   \n",
              "11              American President, The (1995)   \n",
              "7                               Sabrina (1995)   \n",
              "2                               Jumanji (1995)   \n",
              "\n",
              "                                             generos  total_de_votos  \\\n",
              "filmeId                                                                \n",
              "1        Adventure|Animation|Children|Comedy|Fantasy          2107.0   \n",
              "21                             Comedy|Crime|Thriller           781.0   \n",
              "19                                            Comedy           795.0   \n",
              "10                         Action|Adventure|Thriller          1013.0   \n",
              "11                              Comedy|Drama|Romance           603.0   \n",
              "7                                     Comedy|Romance           493.0   \n",
              "2                         Adventure|Children|Fantasy           817.0   \n",
              "\n",
              "         nota_media  \n",
              "filmeId              \n",
              "1          3.871144  \n",
              "21         3.533931  \n",
              "19         2.646541  \n",
              "10         3.478282  \n",
              "11         3.629353  \n",
              "7          3.338742  \n",
              "2          3.197674  "
            ]
          },
          "metadata": {
            "tags": []
          },
          "execution_count": 12
        }
      ]
    },
    {
      "metadata": {
        "id": "bA88PsA3hk9s",
        "colab_type": "code",
        "outputId": "bebb09d2-36cc-4ca2-f166-f67ec6ab9b4d",
        "colab": {
          "base_uri": "https://localhost:8080/",
          "height": 390
        }
      },
      "cell_type": "code",
      "source": [
        "aventura_infantil_e_fantasia = filmes_com_mais_de_50_votos.query(\"generos=='Adventure|Children|Fantasy'\")\n",
        "aventura_infantil_e_fantasia.drop(eu_assisti, errors='ignore').sort_values(\"nota_media\", ascending = False).head(10)"
      ],
      "execution_count": 13,
      "outputs": [
        {
          "output_type": "execute_result",
          "data": {
            "text/html": [
              "<div>\n",
              "<style scoped>\n",
              "    .dataframe tbody tr th:only-of-type {\n",
              "        vertical-align: middle;\n",
              "    }\n",
              "\n",
              "    .dataframe tbody tr th {\n",
              "        vertical-align: top;\n",
              "    }\n",
              "\n",
              "    .dataframe thead th {\n",
              "        text-align: right;\n",
              "    }\n",
              "</style>\n",
              "<table border=\"1\" class=\"dataframe\">\n",
              "  <thead>\n",
              "    <tr style=\"text-align: right;\">\n",
              "      <th></th>\n",
              "      <th>titulo</th>\n",
              "      <th>generos</th>\n",
              "      <th>total_de_votos</th>\n",
              "      <th>nota_media</th>\n",
              "    </tr>\n",
              "    <tr>\n",
              "      <th>filmeId</th>\n",
              "      <th></th>\n",
              "      <th></th>\n",
              "      <th></th>\n",
              "      <th></th>\n",
              "    </tr>\n",
              "  </thead>\n",
              "  <tbody>\n",
              "    <tr>\n",
              "      <th>4896</th>\n",
              "      <td>Harry Potter and the Sorcerer's Stone (a.k.a. ...</td>\n",
              "      <td>Adventure|Children|Fantasy</td>\n",
              "      <td>826.0</td>\n",
              "      <td>3.680993</td>\n",
              "    </tr>\n",
              "    <tr>\n",
              "      <th>50601</th>\n",
              "      <td>Bridge to Terabithia (2007)</td>\n",
              "      <td>Adventure|Children|Fantasy</td>\n",
              "      <td>57.0</td>\n",
              "      <td>3.535088</td>\n",
              "    </tr>\n",
              "    <tr>\n",
              "      <th>2161</th>\n",
              "      <td>NeverEnding Story, The (1984)</td>\n",
              "      <td>Adventure|Children|Fantasy</td>\n",
              "      <td>366.0</td>\n",
              "      <td>3.467213</td>\n",
              "    </tr>\n",
              "    <tr>\n",
              "      <th>41566</th>\n",
              "      <td>Chronicles of Narnia: The Lion, the Witch and ...</td>\n",
              "      <td>Adventure|Children|Fantasy</td>\n",
              "      <td>395.0</td>\n",
              "      <td>3.391139</td>\n",
              "    </tr>\n",
              "    <tr>\n",
              "      <th>82169</th>\n",
              "      <td>Chronicles of Narnia: The Voyage of the Dawn T...</td>\n",
              "      <td>Adventure|Children|Fantasy</td>\n",
              "      <td>71.0</td>\n",
              "      <td>3.267606</td>\n",
              "    </tr>\n",
              "    <tr>\n",
              "      <th>59501</th>\n",
              "      <td>Chronicles of Narnia: Prince Caspian, The (2008)</td>\n",
              "      <td>Adventure|Children|Fantasy</td>\n",
              "      <td>106.0</td>\n",
              "      <td>3.193396</td>\n",
              "    </tr>\n",
              "    <tr>\n",
              "      <th>56171</th>\n",
              "      <td>Golden Compass, The (2007)</td>\n",
              "      <td>Adventure|Children|Fantasy</td>\n",
              "      <td>94.0</td>\n",
              "      <td>3.154255</td>\n",
              "    </tr>\n",
              "    <tr>\n",
              "      <th>1009</th>\n",
              "      <td>Escape to Witch Mountain (1975)</td>\n",
              "      <td>Adventure|Children|Fantasy</td>\n",
              "      <td>71.0</td>\n",
              "      <td>3.140845</td>\n",
              "    </tr>\n",
              "    <tr>\n",
              "      <th>60</th>\n",
              "      <td>Indian in the Cupboard, The (1995)</td>\n",
              "      <td>Adventure|Children|Fantasy</td>\n",
              "      <td>222.0</td>\n",
              "      <td>3.047297</td>\n",
              "    </tr>\n",
              "    <tr>\n",
              "      <th>2093</th>\n",
              "      <td>Return to Oz (1985)</td>\n",
              "      <td>Adventure|Children|Fantasy</td>\n",
              "      <td>68.0</td>\n",
              "      <td>3.022059</td>\n",
              "    </tr>\n",
              "  </tbody>\n",
              "</table>\n",
              "</div>"
            ],
            "text/plain": [
              "                                                    titulo  \\\n",
              "filmeId                                                      \n",
              "4896     Harry Potter and the Sorcerer's Stone (a.k.a. ...   \n",
              "50601                          Bridge to Terabithia (2007)   \n",
              "2161                         NeverEnding Story, The (1984)   \n",
              "41566    Chronicles of Narnia: The Lion, the Witch and ...   \n",
              "82169    Chronicles of Narnia: The Voyage of the Dawn T...   \n",
              "59501     Chronicles of Narnia: Prince Caspian, The (2008)   \n",
              "56171                           Golden Compass, The (2007)   \n",
              "1009                       Escape to Witch Mountain (1975)   \n",
              "60                      Indian in the Cupboard, The (1995)   \n",
              "2093                                   Return to Oz (1985)   \n",
              "\n",
              "                            generos  total_de_votos  nota_media  \n",
              "filmeId                                                          \n",
              "4896     Adventure|Children|Fantasy           826.0    3.680993  \n",
              "50601    Adventure|Children|Fantasy            57.0    3.535088  \n",
              "2161     Adventure|Children|Fantasy           366.0    3.467213  \n",
              "41566    Adventure|Children|Fantasy           395.0    3.391139  \n",
              "82169    Adventure|Children|Fantasy            71.0    3.267606  \n",
              "59501    Adventure|Children|Fantasy           106.0    3.193396  \n",
              "56171    Adventure|Children|Fantasy            94.0    3.154255  \n",
              "1009     Adventure|Children|Fantasy            71.0    3.140845  \n",
              "60       Adventure|Children|Fantasy           222.0    3.047297  \n",
              "2093     Adventure|Children|Fantasy            68.0    3.022059  "
            ]
          },
          "metadata": {
            "tags": []
          },
          "execution_count": 13
        }
      ]
    },
    {
      "metadata": {
        "id": "X9QOxjKHh5aD",
        "colab_type": "code",
        "colab": {}
      },
      "cell_type": "code",
      "source": [
        "# Collaborative filtering x Content based filtering"
      ],
      "execution_count": 0,
      "outputs": []
    },
    {
      "metadata": {
        "id": "YZOO7Ifp0WWU",
        "colab_type": "text"
      },
      "cell_type": "markdown",
      "source": [
        "# Procurar usuários \"similares\""
      ]
    },
    {
      "metadata": {
        "id": "HZF6Hpma0jdm",
        "colab_type": "text"
      },
      "cell_type": "markdown",
      "source": [
        "- joão deu nota 4 no filme toy story\n",
        "- maria deu nota 5 no filme toy story\n",
        "- paulo deu nota 3 no filme toy story\n",
        "- joana deu nota 3.5 no filme toy story\n",
        "\n",
        "x-y ==> distância"
      ]
    },
    {
      "metadata": {
        "id": "nwh6sFdxz1wp",
        "colab_type": "code",
        "outputId": "5b67b575-3ffd-4113-f89e-7146be83e84f",
        "colab": {
          "base_uri": "https://localhost:8080/",
          "height": 379
        }
      },
      "cell_type": "code",
      "source": [
        "import matplotlib.pyplot as plt\n",
        "plt.plot(4, 4.5, \"go\")\n",
        "plt.plot(5, 5, \"yo\")\n",
        "plt.legend([\"João\", \"Maria\"])\n",
        "plt.title(\"Calcular a distância entre dois usuários\")\n",
        "\n",
        "plt.plot([4, 5], [4.5, 4.5], color=\"b\", linestyle=\"-\")\n",
        "plt.plot([4, 5], [4.5, 5], color=\"b\", linestyle=\"-\")\n",
        "plt.plot([5, 5], [4.5, 5], color=\"b\", linestyle=\"-\")"
      ],
      "execution_count": 15,
      "outputs": [
        {
          "output_type": "execute_result",
          "data": {
            "text/plain": [
              "[<matplotlib.lines.Line2D at 0x7f1bcc220908>]"
            ]
          },
          "metadata": {
            "tags": []
          },
          "execution_count": 15
        },
        {
          "output_type": "display_data",
          "data": {
            "image/png": "[encoded data removed]",
            "text/plain": [
              "<matplotlib.figure.Figure at 0x7f1bcc2a4400>"
            ]
          },
          "metadata": {
            "tags": []
          }
        }
      ]
    },
    {
      "metadata": {
        "id": "bOMpuU2921Mw",
        "colab_type": "code",
        "outputId": "fcb361f9-e690-436a-ccd9-e5344000730d",
        "colab": {
          "base_uri": "https://localhost:8080/",
          "height": 34
        }
      },
      "cell_type": "code",
      "source": [
        "import numpy as np\n",
        "\n",
        "joao = np.array([4, 4.5])\n",
        "maria = np.array([5, 5])\n",
        "\n",
        "joao - maria"
      ],
      "execution_count": 16,
      "outputs": [
        {
          "output_type": "execute_result",
          "data": {
            "text/plain": [
              "array([-1. , -0.5])"
            ]
          },
          "metadata": {
            "tags": []
          },
          "execution_count": 16
        }
      ]
    },
    {
      "metadata": {
        "id": "opBd04bQ2__b",
        "colab_type": "code",
        "outputId": "26f09579-aa92-4ab2-9f85-c0f2d683f47e",
        "colab": {
          "base_uri": "https://localhost:8080/",
          "height": 34
        }
      },
      "cell_type": "code",
      "source": [
        "from math import sqrt\n",
        "\n",
        "def pitagoras(a,b):\n",
        "  (delta_x, delta_y) = a - b\n",
        "  return sqrt(delta_x * delta_x + delta_y * delta_y)\n",
        "\n",
        "pitagoras(joao, maria)"
      ],
      "execution_count": 17,
      "outputs": [
        {
          "output_type": "execute_result",
          "data": {
            "text/plain": [
              "1.118033988749895"
            ]
          },
          "metadata": {
            "tags": []
          },
          "execution_count": 17
        }
      ]
    },
    {
      "metadata": {
        "id": "5bGAWvTU3hRA",
        "colab_type": "code",
        "outputId": "7f77b83e-4ef6-4652-866f-7126ce09eb93",
        "colab": {
          "base_uri": "https://localhost:8080/",
          "height": 34
        }
      },
      "cell_type": "code",
      "source": [
        "def pitagoras(a,b):\n",
        "  return np.linalg.norm(a - b)\n",
        "\n",
        "pitagoras(joao, maria)"
      ],
      "execution_count": 18,
      "outputs": [
        {
          "output_type": "execute_result",
          "data": {
            "text/plain": [
              "1.118033988749895"
            ]
          },
          "metadata": {
            "tags": []
          },
          "execution_count": 18
        }
      ]
    },
    {
      "metadata": {
        "id": "eugqrwvB3pvK",
        "colab_type": "code",
        "outputId": "bb7ab441-3d95-474a-cd71-42f90ec541a5",
        "colab": {
          "base_uri": "https://localhost:8080/",
          "height": 379
        }
      },
      "cell_type": "code",
      "source": [
        "import matplotlib.pyplot as plt\n",
        "plt.plot(4, 4.5, \"go\")\n",
        "plt.plot(5, 5, \"yo\")\n",
        "plt.plot(3.5, 4.5, \"bo\")\n",
        "plt.legend([\"João\", \"Maria\", \"Joaquina\"])\n",
        "plt.title(\"Calcular a distância entre usuários\")\n"
      ],
      "execution_count": 19,
      "outputs": [
        {
          "output_type": "execute_result",
          "data": {
            "text/plain": [
              "Text(0.5,1,'Calcular a distância entre usuários')"
            ]
          },
          "metadata": {
            "tags": []
          },
          "execution_count": 19
        },
        {
          "output_type": "display_data",
          "data": {
            "image/png": "[encoded data removed]",
            "text/plain": [
              "<matplotlib.figure.Figure at 0x7f1bcc200978>"
            ]
          },
          "metadata": {
            "tags": []
          }
        }
      ]
    },
    {
      "metadata": {
        "id": "5j2yydH84Bu7",
        "colab_type": "code",
        "outputId": "fcfcae1d-3905-4bc4-a194-c9d52bc29d05",
        "colab": {
          "base_uri": "https://localhost:8080/",
          "height": 51
        }
      },
      "cell_type": "code",
      "source": [
        "joaquina = np.array([3.5, 4.5])\n",
        "\n",
        "print(pitagoras(joao, maria))\n",
        "print(pitagoras(joao, joaquina))"
      ],
      "execution_count": 20,
      "outputs": [
        {
          "output_type": "stream",
          "text": [
            "1.118033988749895\n",
            "0.5\n"
          ],
          "name": "stdout"
        }
      ]
    },
    {
      "metadata": {
        "id": "zDwu8YEOvEFT",
        "colab_type": "text"
      },
      "cell_type": "markdown",
      "source": [
        "# Distância entre usuários do dataset"
      ]
    },
    {
      "metadata": {
        "id": "8EAva5D24KrG",
        "colab_type": "code",
        "colab": {}
      },
      "cell_type": "code",
      "source": [
        "def distancia_de_vetores(a,b):\n",
        "  return np.linalg.norm(a - b)\n"
      ],
      "execution_count": 0,
      "outputs": []
    },
    {
      "metadata": {
        "id": "oqbbrwNK4b4z",
        "colab_type": "code",
        "colab": {}
      },
      "cell_type": "code",
      "source": [
        "def notas_do_usuario(usuario):\n",
        "  notas_do_usuario = notas.query(\"usuarioId==%d\" % usuario)\n",
        "  notas_do_usuario = notas_do_usuario[[\"filmeId\", \"nota\"]].set_index(\"filmeId\")\n",
        "  return notas_do_usuario"
      ],
      "execution_count": 0,
      "outputs": []
    },
    {
      "metadata": {
        "id": "CSRRdtVzpBxC",
        "colab_type": "code",
        "colab": {}
      },
      "cell_type": "code",
      "source": [
        "usuario1 = notas_do_usuario(1)\n",
        "usuario4 = notas_do_usuario(4)"
      ],
      "execution_count": 0,
      "outputs": []
    },
    {
      "metadata": {
        "id": "WgQr9xA1p15N",
        "colab_type": "code",
        "outputId": "9ca9e8d9-5281-4651-ab54-2d05996985ea",
        "colab": {
          "base_uri": "https://localhost:8080/",
          "height": 235
        }
      },
      "cell_type": "code",
      "source": [
        "usuario1.head()"
      ],
      "execution_count": 24,
      "outputs": [
        {
          "output_type": "execute_result",
          "data": {
            "text/html": [
              "<div>\n",
              "<style scoped>\n",
              "    .dataframe tbody tr th:only-of-type {\n",
              "        vertical-align: middle;\n",
              "    }\n",
              "\n",
              "    .dataframe tbody tr th {\n",
              "        vertical-align: top;\n",
              "    }\n",
              "\n",
              "    .dataframe thead th {\n",
              "        text-align: right;\n",
              "    }\n",
              "</style>\n",
              "<table border=\"1\" class=\"dataframe\">\n",
              "  <thead>\n",
              "    <tr style=\"text-align: right;\">\n",
              "      <th></th>\n",
              "      <th>nota</th>\n",
              "    </tr>\n",
              "    <tr>\n",
              "      <th>filmeId</th>\n",
              "      <th></th>\n",
              "    </tr>\n",
              "  </thead>\n",
              "  <tbody>\n",
              "    <tr>\n",
              "      <th>307</th>\n",
              "      <td>3.5</td>\n",
              "    </tr>\n",
              "    <tr>\n",
              "      <th>481</th>\n",
              "      <td>3.5</td>\n",
              "    </tr>\n",
              "    <tr>\n",
              "      <th>1091</th>\n",
              "      <td>1.5</td>\n",
              "    </tr>\n",
              "    <tr>\n",
              "      <th>1257</th>\n",
              "      <td>4.5</td>\n",
              "    </tr>\n",
              "    <tr>\n",
              "      <th>1449</th>\n",
              "      <td>4.5</td>\n",
              "    </tr>\n",
              "  </tbody>\n",
              "</table>\n",
              "</div>"
            ],
            "text/plain": [
              "         nota\n",
              "filmeId      \n",
              "307       3.5\n",
              "481       3.5\n",
              "1091      1.5\n",
              "1257      4.5\n",
              "1449      4.5"
            ]
          },
          "metadata": {
            "tags": []
          },
          "execution_count": 24
        }
      ]
    },
    {
      "metadata": {
        "id": "_p_xUro2qAm8",
        "colab_type": "code",
        "outputId": "3c006eb7-173e-44a0-bd1a-44deaff6939d",
        "colab": {
          "base_uri": "https://localhost:8080/",
          "height": 235
        }
      },
      "cell_type": "code",
      "source": [
        "usuario4.head()"
      ],
      "execution_count": 25,
      "outputs": [
        {
          "output_type": "execute_result",
          "data": {
            "text/html": [
              "<div>\n",
              "<style scoped>\n",
              "    .dataframe tbody tr th:only-of-type {\n",
              "        vertical-align: middle;\n",
              "    }\n",
              "\n",
              "    .dataframe tbody tr th {\n",
              "        vertical-align: top;\n",
              "    }\n",
              "\n",
              "    .dataframe thead th {\n",
              "        text-align: right;\n",
              "    }\n",
              "</style>\n",
              "<table border=\"1\" class=\"dataframe\">\n",
              "  <thead>\n",
              "    <tr style=\"text-align: right;\">\n",
              "      <th></th>\n",
              "      <th>nota</th>\n",
              "    </tr>\n",
              "    <tr>\n",
              "      <th>filmeId</th>\n",
              "      <th></th>\n",
              "    </tr>\n",
              "  </thead>\n",
              "  <tbody>\n",
              "    <tr>\n",
              "      <th>1</th>\n",
              "      <td>4.0</td>\n",
              "    </tr>\n",
              "    <tr>\n",
              "      <th>2</th>\n",
              "      <td>4.0</td>\n",
              "    </tr>\n",
              "    <tr>\n",
              "      <th>5</th>\n",
              "      <td>2.0</td>\n",
              "    </tr>\n",
              "    <tr>\n",
              "      <th>6</th>\n",
              "      <td>4.5</td>\n",
              "    </tr>\n",
              "    <tr>\n",
              "      <th>10</th>\n",
              "      <td>4.0</td>\n",
              "    </tr>\n",
              "  </tbody>\n",
              "</table>\n",
              "</div>"
            ],
            "text/plain": [
              "         nota\n",
              "filmeId      \n",
              "1         4.0\n",
              "2         4.0\n",
              "5         2.0\n",
              "6         4.5\n",
              "10        4.0"
            ]
          },
          "metadata": {
            "tags": []
          },
          "execution_count": 25
        }
      ]
    },
    {
      "metadata": {
        "id": "ib3bPrKYqB0-",
        "colab_type": "code",
        "outputId": "1b624a67-231b-44e7-f642-96b9b14cec31",
        "colab": {
          "base_uri": "https://localhost:8080/",
          "height": 34
        }
      },
      "cell_type": "code",
      "source": [
        "diferencas = usuario1.join(usuario4, lsuffix=\"_esquerda\", rsuffix=\"_direita\").dropna()\n",
        "distancia_de_vetores(diferencas['nota_esquerda'], diferencas['nota_direita'])"
      ],
      "execution_count": 26,
      "outputs": [
        {
          "output_type": "execute_result",
          "data": {
            "text/plain": [
              "3.0413812651491097"
            ]
          },
          "metadata": {
            "tags": []
          },
          "execution_count": 26
        }
      ]
    },
    {
      "metadata": {
        "id": "R5_mBLDzsqAs",
        "colab_type": "code",
        "colab": {}
      },
      "cell_type": "code",
      "source": [
        "def distancia_de_usuarios(usuario_id1, usuario_id2):\n",
        "  notas1 = notas_do_usuario(usuario_id1)\n",
        "  notas2 = notas_do_usuario(usuario_id2)\n",
        "  diferencas = notas1.join(notas2, lsuffix=\"_esquerda\", rsuffix=\"_direita\").dropna()\n",
        "  distancia =  distancia_de_vetores(diferencas['nota_esquerda'], diferencas['nota_direita'])\n",
        "  return [usuario_id1, usuario_id2, distancia]"
      ],
      "execution_count": 0,
      "outputs": []
    },
    {
      "metadata": {
        "id": "vb8H5Z6ps3yJ",
        "colab_type": "code",
        "outputId": "466a6827-e545-4143-e7d6-3f13041ae409",
        "colab": {
          "base_uri": "https://localhost:8080/",
          "height": 34
        }
      },
      "cell_type": "code",
      "source": [
        "distancia_de_usuarios(1,4)"
      ],
      "execution_count": 28,
      "outputs": [
        {
          "output_type": "execute_result",
          "data": {
            "text/plain": [
              "[1, 4, 3.0413812651491097]"
            ]
          },
          "metadata": {
            "tags": []
          },
          "execution_count": 28
        }
      ]
    },
    {
      "metadata": {
        "id": "SaUdWjCPtN5e",
        "colab_type": "code",
        "outputId": "e7b80d7a-c557-434a-c856-a1cc8f232c5b",
        "colab": {
          "base_uri": "https://localhost:8080/",
          "height": 34
        }
      },
      "cell_type": "code",
      "source": [
        "quantidade_de_usuarios = len(notas['usuarioId'].unique())\n",
        "print(\"Temos %d usuarios\" % quantidade_de_usuarios)"
      ],
      "execution_count": 29,
      "outputs": [
        {
          "output_type": "stream",
          "text": [
            "Temos 8620 usuarios\n"
          ],
          "name": "stdout"
        }
      ]
    },
    {
      "metadata": {
        "id": "YKK_6f56vUOI",
        "colab_type": "code",
        "outputId": "022896be-5191-4799-c1dc-b3502de49570",
        "colab": {
          "base_uri": "https://localhost:8080/",
          "height": 101
        }
      },
      "cell_type": "code",
      "source": [
        "def distancia_de_todos(voce_id):\n",
        "  distancias = []\n",
        "  for usuario_id in notas['usuarioId'].unique():\n",
        "    informacoes = distancia_de_usuarios(voce_id, usuario_id)\n",
        "    distancias.append(informacoes)\n",
        "  return distancias\n",
        "\n",
        "distancia_de_todos(1)[:5]"
      ],
      "execution_count": 30,
      "outputs": [
        {
          "output_type": "execute_result",
          "data": {
            "text/plain": [
              "[[1, 1, 0.0],\n",
              " [1, 2, 0.0],\n",
              " [1, 3, 0.0],\n",
              " [1, 4, 3.0413812651491097],\n",
              " [1, 5, 0.0]]"
            ]
          },
          "metadata": {
            "tags": []
          },
          "execution_count": 30
        }
      ]
    },
    {
      "metadata": {
        "id": "trCL2Qt5v6HE",
        "colab_type": "code",
        "outputId": "4053a8a9-f506-4fd0-ee50-91cb8d1a018b",
        "colab": {
          "base_uri": "https://localhost:8080/",
          "height": 195
        }
      },
      "cell_type": "code",
      "source": [
        "def distancia_de_todos(voce_id):\n",
        "  todos_os_usuarios = notas['usuarioId'].unique()\n",
        "  distancias = [distancia_de_usuarios(voce_id, usuario_id) for usuario_id in todos_os_usuarios]\n",
        "  distancias = pd.DataFrame(distancias, columns = [\"voce\", \"outra_pessoa\", \"distancia\"])\n",
        "  return distancias\n",
        "\n",
        "distancia_de_todos(1).head()"
      ],
      "execution_count": 69,
      "outputs": [
        {
          "output_type": "execute_result",
          "data": {
            "text/html": [
              "<div>\n",
              "<style scoped>\n",
              "    .dataframe tbody tr th:only-of-type {\n",
              "        vertical-align: middle;\n",
              "    }\n",
              "\n",
              "    .dataframe tbody tr th {\n",
              "        vertical-align: top;\n",
              "    }\n",
              "\n",
              "    .dataframe thead th {\n",
              "        text-align: right;\n",
              "    }\n",
              "</style>\n",
              "<table border=\"1\" class=\"dataframe\">\n",
              "  <thead>\n",
              "    <tr style=\"text-align: right;\">\n",
              "      <th></th>\n",
              "      <th>voce</th>\n",
              "      <th>outra_pessoa</th>\n",
              "      <th>distancia</th>\n",
              "    </tr>\n",
              "  </thead>\n",
              "  <tbody>\n",
              "    <tr>\n",
              "      <th>0</th>\n",
              "      <td>1</td>\n",
              "      <td>1</td>\n",
              "      <td>0.000000</td>\n",
              "    </tr>\n",
              "    <tr>\n",
              "      <th>1</th>\n",
              "      <td>1</td>\n",
              "      <td>2</td>\n",
              "      <td>100000.000000</td>\n",
              "    </tr>\n",
              "    <tr>\n",
              "      <th>2</th>\n",
              "      <td>1</td>\n",
              "      <td>3</td>\n",
              "      <td>100000.000000</td>\n",
              "    </tr>\n",
              "    <tr>\n",
              "      <th>3</th>\n",
              "      <td>1</td>\n",
              "      <td>4</td>\n",
              "      <td>3.041381</td>\n",
              "    </tr>\n",
              "    <tr>\n",
              "      <th>4</th>\n",
              "      <td>1</td>\n",
              "      <td>5</td>\n",
              "      <td>100000.000000</td>\n",
              "    </tr>\n",
              "  </tbody>\n",
              "</table>\n",
              "</div>"
            ],
            "text/plain": [
              "   voce  outra_pessoa      distancia\n",
              "0     1             1       0.000000\n",
              "1     1             2  100000.000000\n",
              "2     1             3  100000.000000\n",
              "3     1             4       3.041381\n",
              "4     1             5  100000.000000"
            ]
          },
          "metadata": {
            "tags": []
          },
          "execution_count": 69
        }
      ]
    },
    {
      "metadata": {
        "id": "OUFSfCIkxDJ0",
        "colab_type": "code",
        "outputId": "b80b308a-a550-4692-aa74-d48f07dcfff1",
        "colab": {
          "base_uri": "https://localhost:8080/",
          "height": 77
        }
      },
      "cell_type": "code",
      "source": [
        "notas_do_usuario(1).join(notas_do_usuario(5), lsuffix=\"_1\", rsuffix=\"5\").dropna()"
      ],
      "execution_count": 33,
      "outputs": [
        {
          "output_type": "execute_result",
          "data": {
            "text/html": [
              "<div>\n",
              "<style scoped>\n",
              "    .dataframe tbody tr th:only-of-type {\n",
              "        vertical-align: middle;\n",
              "    }\n",
              "\n",
              "    .dataframe tbody tr th {\n",
              "        vertical-align: top;\n",
              "    }\n",
              "\n",
              "    .dataframe thead th {\n",
              "        text-align: right;\n",
              "    }\n",
              "</style>\n",
              "<table border=\"1\" class=\"dataframe\">\n",
              "  <thead>\n",
              "    <tr style=\"text-align: right;\">\n",
              "      <th></th>\n",
              "      <th>nota_1</th>\n",
              "      <th>nota5</th>\n",
              "    </tr>\n",
              "    <tr>\n",
              "      <th>filmeId</th>\n",
              "      <th></th>\n",
              "      <th></th>\n",
              "    </tr>\n",
              "  </thead>\n",
              "  <tbody>\n",
              "  </tbody>\n",
              "</table>\n",
              "</div>"
            ],
            "text/plain": [
              "Empty DataFrame\n",
              "Columns: [nota_1, nota5]\n",
              "Index: []"
            ]
          },
          "metadata": {
            "tags": []
          },
          "execution_count": 33
        }
      ]
    },
    {
      "metadata": {
        "id": "tvKS94D1yTj3",
        "colab_type": "code",
        "outputId": "b0551b19-e20c-4351-9a82-340e11bdcea2",
        "colab": {
          "base_uri": "https://localhost:8080/",
          "height": 77
        }
      },
      "cell_type": "code",
      "source": [
        "notas_do_usuario(1).join(notas_do_usuario(2), lsuffix=\"_1\", rsuffix=\"2\").dropna()"
      ],
      "execution_count": 34,
      "outputs": [
        {
          "output_type": "execute_result",
          "data": {
            "text/html": [
              "<div>\n",
              "<style scoped>\n",
              "    .dataframe tbody tr th:only-of-type {\n",
              "        vertical-align: middle;\n",
              "    }\n",
              "\n",
              "    .dataframe tbody tr th {\n",
              "        vertical-align: top;\n",
              "    }\n",
              "\n",
              "    .dataframe thead th {\n",
              "        text-align: right;\n",
              "    }\n",
              "</style>\n",
              "<table border=\"1\" class=\"dataframe\">\n",
              "  <thead>\n",
              "    <tr style=\"text-align: right;\">\n",
              "      <th></th>\n",
              "      <th>nota_1</th>\n",
              "      <th>nota2</th>\n",
              "    </tr>\n",
              "    <tr>\n",
              "      <th>filmeId</th>\n",
              "      <th></th>\n",
              "      <th></th>\n",
              "    </tr>\n",
              "  </thead>\n",
              "  <tbody>\n",
              "  </tbody>\n",
              "</table>\n",
              "</div>"
            ],
            "text/plain": [
              "Empty DataFrame\n",
              "Columns: [nota_1, nota2]\n",
              "Index: []"
            ]
          },
          "metadata": {
            "tags": []
          },
          "execution_count": 34
        }
      ]
    },
    {
      "metadata": {
        "id": "_Exy-vNTyluf",
        "colab_type": "code",
        "outputId": "3b4ecb7d-0d2b-43d7-a640-9e97df17527e",
        "colab": {
          "base_uri": "https://localhost:8080/",
          "height": 77
        }
      },
      "cell_type": "code",
      "source": [
        "notas_do_usuario(1).join(notas_do_usuario(3), lsuffix=\"_1\", rsuffix=\"3\").dropna()"
      ],
      "execution_count": 35,
      "outputs": [
        {
          "output_type": "execute_result",
          "data": {
            "text/html": [
              "<div>\n",
              "<style scoped>\n",
              "    .dataframe tbody tr th:only-of-type {\n",
              "        vertical-align: middle;\n",
              "    }\n",
              "\n",
              "    .dataframe tbody tr th {\n",
              "        vertical-align: top;\n",
              "    }\n",
              "\n",
              "    .dataframe thead th {\n",
              "        text-align: right;\n",
              "    }\n",
              "</style>\n",
              "<table border=\"1\" class=\"dataframe\">\n",
              "  <thead>\n",
              "    <tr style=\"text-align: right;\">\n",
              "      <th></th>\n",
              "      <th>nota_1</th>\n",
              "      <th>nota3</th>\n",
              "    </tr>\n",
              "    <tr>\n",
              "      <th>filmeId</th>\n",
              "      <th></th>\n",
              "      <th></th>\n",
              "    </tr>\n",
              "  </thead>\n",
              "  <tbody>\n",
              "  </tbody>\n",
              "</table>\n",
              "</div>"
            ],
            "text/plain": [
              "Empty DataFrame\n",
              "Columns: [nota_1, nota3]\n",
              "Index: []"
            ]
          },
          "metadata": {
            "tags": []
          },
          "execution_count": 35
        }
      ]
    },
    {
      "metadata": {
        "id": "Xj0IeXjUy59_",
        "colab_type": "text"
      },
      "cell_type": "markdown",
      "source": [
        "# Usuários sem filmes em comum são colocados bem distante um do outro"
      ]
    },
    {
      "metadata": {
        "id": "G_hCn3lLypGs",
        "colab_type": "code",
        "colab": {}
      },
      "cell_type": "code",
      "source": [
        "def distancia_de_usuarios(usuario_id1, usuario_id2, minimo = 5):\n",
        "  notas1 = notas_do_usuario(usuario_id1)\n",
        "  notas2 = notas_do_usuario(usuario_id2)\n",
        "  diferencas = notas1.join(notas2, lsuffix=\"_esquerda\", rsuffix=\"_direita\").dropna()\n",
        "  \n",
        "  if(len(diferencas) < minimo):\n",
        "    return [usuario_id1, usuario_id2, 100000]\n",
        "  \n",
        "  distancia =  distancia_de_vetores(diferencas['nota_esquerda'], diferencas['nota_direita'])\n",
        "  return [usuario_id1, usuario_id2, distancia]"
      ],
      "execution_count": 0,
      "outputs": []
    },
    {
      "metadata": {
        "id": "99IH5UDpzM-9",
        "colab_type": "code",
        "outputId": "b26972bb-09ca-4cd7-aa4a-fadbf9f4ca64",
        "colab": {
          "base_uri": "https://localhost:8080/",
          "height": 195
        }
      },
      "cell_type": "code",
      "source": [
        "distancia_de_todos(1).head()"
      ],
      "execution_count": 37,
      "outputs": [
        {
          "output_type": "execute_result",
          "data": {
            "text/html": [
              "<div>\n",
              "<style scoped>\n",
              "    .dataframe tbody tr th:only-of-type {\n",
              "        vertical-align: middle;\n",
              "    }\n",
              "\n",
              "    .dataframe tbody tr th {\n",
              "        vertical-align: top;\n",
              "    }\n",
              "\n",
              "    .dataframe thead th {\n",
              "        text-align: right;\n",
              "    }\n",
              "</style>\n",
              "<table border=\"1\" class=\"dataframe\">\n",
              "  <thead>\n",
              "    <tr style=\"text-align: right;\">\n",
              "      <th></th>\n",
              "      <th>voce</th>\n",
              "      <th>outra_pessoa</th>\n",
              "      <th>distancia</th>\n",
              "    </tr>\n",
              "  </thead>\n",
              "  <tbody>\n",
              "    <tr>\n",
              "      <th>0</th>\n",
              "      <td>1</td>\n",
              "      <td>1</td>\n",
              "      <td>0.000000</td>\n",
              "    </tr>\n",
              "    <tr>\n",
              "      <th>1</th>\n",
              "      <td>1</td>\n",
              "      <td>2</td>\n",
              "      <td>100000.000000</td>\n",
              "    </tr>\n",
              "    <tr>\n",
              "      <th>2</th>\n",
              "      <td>1</td>\n",
              "      <td>3</td>\n",
              "      <td>100000.000000</td>\n",
              "    </tr>\n",
              "    <tr>\n",
              "      <th>3</th>\n",
              "      <td>1</td>\n",
              "      <td>4</td>\n",
              "      <td>3.041381</td>\n",
              "    </tr>\n",
              "    <tr>\n",
              "      <th>4</th>\n",
              "      <td>1</td>\n",
              "      <td>5</td>\n",
              "      <td>100000.000000</td>\n",
              "    </tr>\n",
              "  </tbody>\n",
              "</table>\n",
              "</div>"
            ],
            "text/plain": [
              "   voce  outra_pessoa      distancia\n",
              "0     1             1       0.000000\n",
              "1     1             2  100000.000000\n",
              "2     1             3  100000.000000\n",
              "3     1             4       3.041381\n",
              "4     1             5  100000.000000"
            ]
          },
          "metadata": {
            "tags": []
          },
          "execution_count": 37
        }
      ]
    },
    {
      "metadata": {
        "id": "b4IazvM-zRGG",
        "colab_type": "code",
        "colab": {}
      },
      "cell_type": "code",
      "source": [
        "def mais_proximos_de(voce_id):\n",
        "  distancias = distancia_de_todos(voce_id)\n",
        "  distancias = distancias.sort_values(\"distancia\")\n",
        "  distancias = distancias.set_index(\"outra_pessoa\").drop(voce_id)\n",
        "  return distancias"
      ],
      "execution_count": 0,
      "outputs": []
    },
    {
      "metadata": {
        "id": "JvaWQH6CzxV9",
        "colab_type": "code",
        "outputId": "d797c603-322f-41fa-a166-aa2bb01e96d8",
        "colab": {
          "base_uri": "https://localhost:8080/",
          "height": 225
        }
      },
      "cell_type": "code",
      "source": [
        "mais_proximos_de(1).head()"
      ],
      "execution_count": 39,
      "outputs": [
        {
          "output_type": "execute_result",
          "data": {
            "text/html": [
              "<div>\n",
              "<style scoped>\n",
              "    .dataframe tbody tr th:only-of-type {\n",
              "        vertical-align: middle;\n",
              "    }\n",
              "\n",
              "    .dataframe tbody tr th {\n",
              "        vertical-align: top;\n",
              "    }\n",
              "\n",
              "    .dataframe thead th {\n",
              "        text-align: right;\n",
              "    }\n",
              "</style>\n",
              "<table border=\"1\" class=\"dataframe\">\n",
              "  <thead>\n",
              "    <tr style=\"text-align: right;\">\n",
              "      <th></th>\n",
              "      <th>voce</th>\n",
              "      <th>distancia</th>\n",
              "    </tr>\n",
              "    <tr>\n",
              "      <th>outra_pessoa</th>\n",
              "      <th></th>\n",
              "      <th></th>\n",
              "    </tr>\n",
              "  </thead>\n",
              "  <tbody>\n",
              "    <tr>\n",
              "      <th>5696</th>\n",
              "      <td>1</td>\n",
              "      <td>1.000000</td>\n",
              "    </tr>\n",
              "    <tr>\n",
              "      <th>7713</th>\n",
              "      <td>1</td>\n",
              "      <td>1.000000</td>\n",
              "    </tr>\n",
              "    <tr>\n",
              "      <th>593</th>\n",
              "      <td>1</td>\n",
              "      <td>1.118034</td>\n",
              "    </tr>\n",
              "    <tr>\n",
              "      <th>214</th>\n",
              "      <td>1</td>\n",
              "      <td>1.118034</td>\n",
              "    </tr>\n",
              "    <tr>\n",
              "      <th>8207</th>\n",
              "      <td>1</td>\n",
              "      <td>1.224745</td>\n",
              "    </tr>\n",
              "  </tbody>\n",
              "</table>\n",
              "</div>"
            ],
            "text/plain": [
              "              voce  distancia\n",
              "outra_pessoa                 \n",
              "5696             1   1.000000\n",
              "7713             1   1.000000\n",
              "593              1   1.118034\n",
              "214              1   1.118034\n",
              "8207             1   1.224745"
            ]
          },
          "metadata": {
            "tags": []
          },
          "execution_count": 39
        }
      ]
    },
    {
      "metadata": {
        "id": "5aOeRbOXJmdY",
        "colab_type": "text"
      },
      "cell_type": "markdown",
      "source": [
        "# Parâmetros para teste"
      ]
    },
    {
      "metadata": {
        "id": "j_nUuFK1I2H1",
        "colab_type": "code",
        "colab": {}
      },
      "cell_type": "code",
      "source": [
        "def mais_proximos_de(voce_id, n = None):\n",
        "  distancias = distancia_de_todos(voce_id, n = n)\n",
        "  distancias = distancias.sort_values(\"distancia\")\n",
        "  distancias = distancias.set_index(\"outra_pessoa\").drop(voce_id)\n",
        "  return distancias"
      ],
      "execution_count": 0,
      "outputs": []
    },
    {
      "metadata": {
        "id": "1G7ZYHKtJz8W",
        "colab_type": "code",
        "colab": {}
      },
      "cell_type": "code",
      "source": [
        "def distancia_de_todos(voce_id, n = None):\n",
        "  todos_os_usuarios = notas['usuarioId'].unique()\n",
        "  if n:\n",
        "    todos_os_usuarios = todos_os_usuarios[:n]\n",
        "  distancias = [distancia_de_usuarios(voce_id, usuario_id) for usuario_id in todos_os_usuarios]\n",
        "  distancias = pd.DataFrame(distancias, columns = [\"voce\", \"outra_pessoa\", \"distancia\"])\n",
        "  return distancias"
      ],
      "execution_count": 0,
      "outputs": []
    },
    {
      "metadata": {
        "id": "WPT3HyjTJ-kY",
        "colab_type": "code",
        "colab": {
          "base_uri": "https://localhost:8080/",
          "height": 1527
        },
        "outputId": "f4320ffe-d3e8-4f49-a870-349ef2aa8d0b"
      },
      "cell_type": "code",
      "source": [
        "mais_proximos_de(1, n = 50)"
      ],
      "execution_count": 86,
      "outputs": [
        {
          "output_type": "execute_result",
          "data": {
            "text/html": [
              "<div>\n",
              "<style scoped>\n",
              "    .dataframe tbody tr th:only-of-type {\n",
              "        vertical-align: middle;\n",
              "    }\n",
              "\n",
              "    .dataframe tbody tr th {\n",
              "        vertical-align: top;\n",
              "    }\n",
              "\n",
              "    .dataframe thead th {\n",
              "        text-align: right;\n",
              "    }\n",
              "</style>\n",
              "<table border=\"1\" class=\"dataframe\">\n",
              "  <thead>\n",
              "    <tr style=\"text-align: right;\">\n",
              "      <th></th>\n",
              "      <th>voce</th>\n",
              "      <th>distancia</th>\n",
              "    </tr>\n",
              "    <tr>\n",
              "      <th>outra_pessoa</th>\n",
              "      <th></th>\n",
              "      <th></th>\n",
              "    </tr>\n",
              "  </thead>\n",
              "  <tbody>\n",
              "    <tr>\n",
              "      <th>4</th>\n",
              "      <td>1</td>\n",
              "      <td>3.041381</td>\n",
              "    </tr>\n",
              "    <tr>\n",
              "      <th>26</th>\n",
              "      <td>1</td>\n",
              "      <td>3.640055</td>\n",
              "    </tr>\n",
              "    <tr>\n",
              "      <th>48</th>\n",
              "      <td>1</td>\n",
              "      <td>100000.000000</td>\n",
              "    </tr>\n",
              "    <tr>\n",
              "      <th>28</th>\n",
              "      <td>1</td>\n",
              "      <td>100000.000000</td>\n",
              "    </tr>\n",
              "    <tr>\n",
              "      <th>29</th>\n",
              "      <td>1</td>\n",
              "      <td>100000.000000</td>\n",
              "    </tr>\n",
              "    <tr>\n",
              "      <th>30</th>\n",
              "      <td>1</td>\n",
              "      <td>100000.000000</td>\n",
              "    </tr>\n",
              "    <tr>\n",
              "      <th>31</th>\n",
              "      <td>1</td>\n",
              "      <td>100000.000000</td>\n",
              "    </tr>\n",
              "    <tr>\n",
              "      <th>32</th>\n",
              "      <td>1</td>\n",
              "      <td>100000.000000</td>\n",
              "    </tr>\n",
              "    <tr>\n",
              "      <th>33</th>\n",
              "      <td>1</td>\n",
              "      <td>100000.000000</td>\n",
              "    </tr>\n",
              "    <tr>\n",
              "      <th>34</th>\n",
              "      <td>1</td>\n",
              "      <td>100000.000000</td>\n",
              "    </tr>\n",
              "    <tr>\n",
              "      <th>35</th>\n",
              "      <td>1</td>\n",
              "      <td>100000.000000</td>\n",
              "    </tr>\n",
              "    <tr>\n",
              "      <th>36</th>\n",
              "      <td>1</td>\n",
              "      <td>100000.000000</td>\n",
              "    </tr>\n",
              "    <tr>\n",
              "      <th>37</th>\n",
              "      <td>1</td>\n",
              "      <td>100000.000000</td>\n",
              "    </tr>\n",
              "    <tr>\n",
              "      <th>27</th>\n",
              "      <td>1</td>\n",
              "      <td>100000.000000</td>\n",
              "    </tr>\n",
              "    <tr>\n",
              "      <th>39</th>\n",
              "      <td>1</td>\n",
              "      <td>100000.000000</td>\n",
              "    </tr>\n",
              "    <tr>\n",
              "      <th>40</th>\n",
              "      <td>1</td>\n",
              "      <td>100000.000000</td>\n",
              "    </tr>\n",
              "    <tr>\n",
              "      <th>41</th>\n",
              "      <td>1</td>\n",
              "      <td>100000.000000</td>\n",
              "    </tr>\n",
              "    <tr>\n",
              "      <th>42</th>\n",
              "      <td>1</td>\n",
              "      <td>100000.000000</td>\n",
              "    </tr>\n",
              "    <tr>\n",
              "      <th>43</th>\n",
              "      <td>1</td>\n",
              "      <td>100000.000000</td>\n",
              "    </tr>\n",
              "    <tr>\n",
              "      <th>44</th>\n",
              "      <td>1</td>\n",
              "      <td>100000.000000</td>\n",
              "    </tr>\n",
              "    <tr>\n",
              "      <th>45</th>\n",
              "      <td>1</td>\n",
              "      <td>100000.000000</td>\n",
              "    </tr>\n",
              "    <tr>\n",
              "      <th>46</th>\n",
              "      <td>1</td>\n",
              "      <td>100000.000000</td>\n",
              "    </tr>\n",
              "    <tr>\n",
              "      <th>47</th>\n",
              "      <td>1</td>\n",
              "      <td>100000.000000</td>\n",
              "    </tr>\n",
              "    <tr>\n",
              "      <th>38</th>\n",
              "      <td>1</td>\n",
              "      <td>100000.000000</td>\n",
              "    </tr>\n",
              "    <tr>\n",
              "      <th>25</th>\n",
              "      <td>1</td>\n",
              "      <td>100000.000000</td>\n",
              "    </tr>\n",
              "    <tr>\n",
              "      <th>24</th>\n",
              "      <td>1</td>\n",
              "      <td>100000.000000</td>\n",
              "    </tr>\n",
              "    <tr>\n",
              "      <th>2</th>\n",
              "      <td>1</td>\n",
              "      <td>100000.000000</td>\n",
              "    </tr>\n",
              "    <tr>\n",
              "      <th>3</th>\n",
              "      <td>1</td>\n",
              "      <td>100000.000000</td>\n",
              "    </tr>\n",
              "    <tr>\n",
              "      <th>5</th>\n",
              "      <td>1</td>\n",
              "      <td>100000.000000</td>\n",
              "    </tr>\n",
              "    <tr>\n",
              "      <th>6</th>\n",
              "      <td>1</td>\n",
              "      <td>100000.000000</td>\n",
              "    </tr>\n",
              "    <tr>\n",
              "      <th>7</th>\n",
              "      <td>1</td>\n",
              "      <td>100000.000000</td>\n",
              "    </tr>\n",
              "    <tr>\n",
              "      <th>8</th>\n",
              "      <td>1</td>\n",
              "      <td>100000.000000</td>\n",
              "    </tr>\n",
              "    <tr>\n",
              "      <th>9</th>\n",
              "      <td>1</td>\n",
              "      <td>100000.000000</td>\n",
              "    </tr>\n",
              "    <tr>\n",
              "      <th>10</th>\n",
              "      <td>1</td>\n",
              "      <td>100000.000000</td>\n",
              "    </tr>\n",
              "    <tr>\n",
              "      <th>11</th>\n",
              "      <td>1</td>\n",
              "      <td>100000.000000</td>\n",
              "    </tr>\n",
              "    <tr>\n",
              "      <th>12</th>\n",
              "      <td>1</td>\n",
              "      <td>100000.000000</td>\n",
              "    </tr>\n",
              "    <tr>\n",
              "      <th>13</th>\n",
              "      <td>1</td>\n",
              "      <td>100000.000000</td>\n",
              "    </tr>\n",
              "    <tr>\n",
              "      <th>14</th>\n",
              "      <td>1</td>\n",
              "      <td>100000.000000</td>\n",
              "    </tr>\n",
              "    <tr>\n",
              "      <th>15</th>\n",
              "      <td>1</td>\n",
              "      <td>100000.000000</td>\n",
              "    </tr>\n",
              "    <tr>\n",
              "      <th>16</th>\n",
              "      <td>1</td>\n",
              "      <td>100000.000000</td>\n",
              "    </tr>\n",
              "    <tr>\n",
              "      <th>17</th>\n",
              "      <td>1</td>\n",
              "      <td>100000.000000</td>\n",
              "    </tr>\n",
              "    <tr>\n",
              "      <th>18</th>\n",
              "      <td>1</td>\n",
              "      <td>100000.000000</td>\n",
              "    </tr>\n",
              "    <tr>\n",
              "      <th>19</th>\n",
              "      <td>1</td>\n",
              "      <td>100000.000000</td>\n",
              "    </tr>\n",
              "    <tr>\n",
              "      <th>20</th>\n",
              "      <td>1</td>\n",
              "      <td>100000.000000</td>\n",
              "    </tr>\n",
              "    <tr>\n",
              "      <th>21</th>\n",
              "      <td>1</td>\n",
              "      <td>100000.000000</td>\n",
              "    </tr>\n",
              "    <tr>\n",
              "      <th>22</th>\n",
              "      <td>1</td>\n",
              "      <td>100000.000000</td>\n",
              "    </tr>\n",
              "    <tr>\n",
              "      <th>23</th>\n",
              "      <td>1</td>\n",
              "      <td>100000.000000</td>\n",
              "    </tr>\n",
              "    <tr>\n",
              "      <th>49</th>\n",
              "      <td>1</td>\n",
              "      <td>100000.000000</td>\n",
              "    </tr>\n",
              "    <tr>\n",
              "      <th>50</th>\n",
              "      <td>1</td>\n",
              "      <td>100000.000000</td>\n",
              "    </tr>\n",
              "  </tbody>\n",
              "</table>\n",
              "</div>"
            ],
            "text/plain": [
              "              voce      distancia\n",
              "outra_pessoa                     \n",
              "4                1       3.041381\n",
              "26               1       3.640055\n",
              "48               1  100000.000000\n",
              "28               1  100000.000000\n",
              "29               1  100000.000000\n",
              "30               1  100000.000000\n",
              "31               1  100000.000000\n",
              "32               1  100000.000000\n",
              "33               1  100000.000000\n",
              "34               1  100000.000000\n",
              "35               1  100000.000000\n",
              "36               1  100000.000000\n",
              "37               1  100000.000000\n",
              "27               1  100000.000000\n",
              "39               1  100000.000000\n",
              "40               1  100000.000000\n",
              "41               1  100000.000000\n",
              "42               1  100000.000000\n",
              "43               1  100000.000000\n",
              "44               1  100000.000000\n",
              "45               1  100000.000000\n",
              "46               1  100000.000000\n",
              "47               1  100000.000000\n",
              "38               1  100000.000000\n",
              "25               1  100000.000000\n",
              "24               1  100000.000000\n",
              "2                1  100000.000000\n",
              "3                1  100000.000000\n",
              "5                1  100000.000000\n",
              "6                1  100000.000000\n",
              "7                1  100000.000000\n",
              "8                1  100000.000000\n",
              "9                1  100000.000000\n",
              "10               1  100000.000000\n",
              "11               1  100000.000000\n",
              "12               1  100000.000000\n",
              "13               1  100000.000000\n",
              "14               1  100000.000000\n",
              "15               1  100000.000000\n",
              "16               1  100000.000000\n",
              "17               1  100000.000000\n",
              "18               1  100000.000000\n",
              "19               1  100000.000000\n",
              "20               1  100000.000000\n",
              "21               1  100000.000000\n",
              "22               1  100000.000000\n",
              "23               1  100000.000000\n",
              "49               1  100000.000000\n",
              "50               1  100000.000000"
            ]
          },
          "metadata": {
            "tags": []
          },
          "execution_count": 86
        }
      ]
    },
    {
      "metadata": {
        "id": "OAk0SFJ6L5i4",
        "colab_type": "code",
        "colab": {}
      },
      "cell_type": "code",
      "source": [
        "def distancia_de_usuarios(usuario_id1, usuario_id2, minimo = 5):\n",
        "  notas1 = notas_do_usuario(usuario_id1)\n",
        "  notas2 = notas_do_usuario(usuario_id2)\n",
        "  diferencas = notas1.join(notas2, lsuffix=\"_esquerda\", rsuffix=\"_direita\").dropna()\n",
        "  \n",
        "  if(len(diferencas) < minimo):\n",
        "    return None\n",
        "  \n",
        "  distancia =  distancia_de_vetores(diferencas['nota_esquerda'], diferencas['nota_direita'])\n",
        "  return [usuario_id1, usuario_id2, distancia]"
      ],
      "execution_count": 0,
      "outputs": []
    },
    {
      "metadata": {
        "id": "Yc5DRFSHKB_x",
        "colab_type": "code",
        "colab": {}
      },
      "cell_type": "code",
      "source": [
        "def distancia_de_todos(voce_id, numero_de_usuarios_a_analisar = None):\n",
        "  todos_os_usuarios = notas['usuarioId'].unique()\n",
        "  if numero_de_usuarios_a_analisar:\n",
        "    todos_os_usuarios = todos_os_usuarios[:numero_de_usuarios_a_analisar]\n",
        "  distancias = [distancia_de_usuarios(voce_id, usuario_id) for usuario_id in todos_os_usuarios]\n",
        "  distancias = list(filter(None, distancias))\n",
        "  distancias = pd.DataFrame(distancias, columns = [\"voce\", \"outra_pessoa\", \"distancia\"])\n",
        "  return distancias"
      ],
      "execution_count": 0,
      "outputs": []
    },
    {
      "metadata": {
        "id": "odr1gibsM8s8",
        "colab_type": "code",
        "colab": {}
      },
      "cell_type": "code",
      "source": [
        "def mais_proximos_de(voce_id, numero_de_usuarios_a_analisar = None):\n",
        "  distancias = distancia_de_todos(voce_id, numero_de_usuarios_a_analisar = numero_de_usuarios_a_analisar)\n",
        "  distancias = distancias.sort_values(\"distancia\")\n",
        "  distancias = distancias.set_index(\"outra_pessoa\").drop(voce_id)\n",
        "  return distancias"
      ],
      "execution_count": 0,
      "outputs": []
    },
    {
      "metadata": {
        "id": "Awtslzo3MNB3",
        "colab_type": "code",
        "colab": {
          "base_uri": "https://localhost:8080/",
          "height": 136
        },
        "outputId": "82f42d41-83fa-4d97-f83a-f594c0c54101"
      },
      "cell_type": "code",
      "source": [
        "mais_proximos_de(1, numero_de_usuarios_a_analisar = 50)"
      ],
      "execution_count": 90,
      "outputs": [
        {
          "output_type": "execute_result",
          "data": {
            "text/html": [
              "<div>\n",
              "<style scoped>\n",
              "    .dataframe tbody tr th:only-of-type {\n",
              "        vertical-align: middle;\n",
              "    }\n",
              "\n",
              "    .dataframe tbody tr th {\n",
              "        vertical-align: top;\n",
              "    }\n",
              "\n",
              "    .dataframe thead th {\n",
              "        text-align: right;\n",
              "    }\n",
              "</style>\n",
              "<table border=\"1\" class=\"dataframe\">\n",
              "  <thead>\n",
              "    <tr style=\"text-align: right;\">\n",
              "      <th></th>\n",
              "      <th>voce</th>\n",
              "      <th>distancia</th>\n",
              "    </tr>\n",
              "    <tr>\n",
              "      <th>outra_pessoa</th>\n",
              "      <th></th>\n",
              "      <th></th>\n",
              "    </tr>\n",
              "  </thead>\n",
              "  <tbody>\n",
              "    <tr>\n",
              "      <th>4</th>\n",
              "      <td>1</td>\n",
              "      <td>3.041381</td>\n",
              "    </tr>\n",
              "    <tr>\n",
              "      <th>26</th>\n",
              "      <td>1</td>\n",
              "      <td>3.640055</td>\n",
              "    </tr>\n",
              "  </tbody>\n",
              "</table>\n",
              "</div>"
            ],
            "text/plain": [
              "              voce  distancia\n",
              "outra_pessoa                 \n",
              "4                1   3.041381\n",
              "26               1   3.640055"
            ]
          },
          "metadata": {
            "tags": []
          },
          "execution_count": 90
        }
      ]
    },
    {
      "metadata": {
        "id": "U3GgjGSxMO4_",
        "colab_type": "code",
        "colab": {}
      },
      "cell_type": "code",
      "source": [
        "def sugere_para(voce, numero_de_usuarios_a_analisar = None):\n",
        "  notas_de_voce = notas_do_usuario(voce)\n",
        "  filmes_que_voce_ja_viu = notas_de_voce.index\n",
        "\n",
        "  similares = mais_proximos_de(voce, numero_de_usuarios_a_analisar = numero_de_usuarios_a_analisar)\n",
        "  similar = similares.iloc[0].name\n",
        "  notas_do_similar = notas_do_usuario(similar)\n",
        "  notas_do_similar = notas_do_similar.drop(filmes_que_voce_ja_viu, errors='ignore')\n",
        "  recomendacoes = notas_do_similar.sort_values(\"nota\", ascending=False)\n",
        "  return recomendacoes.join(filmes)"
      ],
      "execution_count": 0,
      "outputs": []
    },
    {
      "metadata": {
        "id": "JEKeo-a8NJDQ",
        "colab_type": "code",
        "colab": {
          "base_uri": "https://localhost:8080/",
          "height": 225
        },
        "outputId": "7b5102d4-b559-4ed7-8d5b-9f8ae49eed28"
      },
      "cell_type": "code",
      "source": [
        "sugere_para(1, numero_de_usuarios_a_analisar=50).head()"
      ],
      "execution_count": 114,
      "outputs": [
        {
          "output_type": "execute_result",
          "data": {
            "text/html": [
              "<div>\n",
              "<style scoped>\n",
              "    .dataframe tbody tr th:only-of-type {\n",
              "        vertical-align: middle;\n",
              "    }\n",
              "\n",
              "    .dataframe tbody tr th {\n",
              "        vertical-align: top;\n",
              "    }\n",
              "\n",
              "    .dataframe thead th {\n",
              "        text-align: right;\n",
              "    }\n",
              "</style>\n",
              "<table border=\"1\" class=\"dataframe\">\n",
              "  <thead>\n",
              "    <tr style=\"text-align: right;\">\n",
              "      <th></th>\n",
              "      <th>nota</th>\n",
              "      <th>titulo</th>\n",
              "      <th>generos</th>\n",
              "      <th>total_de_votos</th>\n",
              "      <th>nota_media</th>\n",
              "    </tr>\n",
              "    <tr>\n",
              "      <th>filmeId</th>\n",
              "      <th></th>\n",
              "      <th></th>\n",
              "      <th></th>\n",
              "      <th></th>\n",
              "      <th></th>\n",
              "    </tr>\n",
              "  </thead>\n",
              "  <tbody>\n",
              "    <tr>\n",
              "      <th>2193</th>\n",
              "      <td>5.0</td>\n",
              "      <td>Willow (1988)</td>\n",
              "      <td>Action|Adventure|Fantasy</td>\n",
              "      <td>339.0</td>\n",
              "      <td>3.442478</td>\n",
              "    </tr>\n",
              "    <tr>\n",
              "      <th>27773</th>\n",
              "      <td>5.0</td>\n",
              "      <td>Old Boy (2003)</td>\n",
              "      <td>Mystery|Thriller</td>\n",
              "      <td>348.0</td>\n",
              "      <td>4.081897</td>\n",
              "    </tr>\n",
              "    <tr>\n",
              "      <th>349</th>\n",
              "      <td>5.0</td>\n",
              "      <td>Clear and Present Danger (1994)</td>\n",
              "      <td>Action|Crime|Drama|Thriller</td>\n",
              "      <td>1069.0</td>\n",
              "      <td>3.653414</td>\n",
              "    </tr>\n",
              "    <tr>\n",
              "      <th>8132</th>\n",
              "      <td>5.0</td>\n",
              "      <td>Gladiator (1992)</td>\n",
              "      <td>Action|Drama</td>\n",
              "      <td>124.0</td>\n",
              "      <td>3.915323</td>\n",
              "    </tr>\n",
              "    <tr>\n",
              "      <th>8360</th>\n",
              "      <td>5.0</td>\n",
              "      <td>Shrek 2 (2004)</td>\n",
              "      <td>Adventure|Animation|Children|Comedy|Musical|Ro...</td>\n",
              "      <td>668.0</td>\n",
              "      <td>3.518713</td>\n",
              "    </tr>\n",
              "  </tbody>\n",
              "</table>\n",
              "</div>"
            ],
            "text/plain": [
              "         nota                           titulo  \\\n",
              "filmeId                                          \n",
              "2193      5.0                    Willow (1988)   \n",
              "27773     5.0                   Old Boy (2003)   \n",
              "349       5.0  Clear and Present Danger (1994)   \n",
              "8132      5.0                 Gladiator (1992)   \n",
              "8360      5.0                   Shrek 2 (2004)   \n",
              "\n",
              "                                                   generos  total_de_votos  \\\n",
              "filmeId                                                                      \n",
              "2193                              Action|Adventure|Fantasy           339.0   \n",
              "27773                                     Mystery|Thriller           348.0   \n",
              "349                            Action|Crime|Drama|Thriller          1069.0   \n",
              "8132                                          Action|Drama           124.0   \n",
              "8360     Adventure|Animation|Children|Comedy|Musical|Ro...           668.0   \n",
              "\n",
              "         nota_media  \n",
              "filmeId              \n",
              "2193       3.442478  \n",
              "27773      4.081897  \n",
              "349        3.653414  \n",
              "8132       3.915323  \n",
              "8360       3.518713  "
            ]
          },
          "metadata": {
            "tags": []
          },
          "execution_count": 114
        }
      ]
    },
    {
      "metadata": {
        "id": "_rjIFnWpOzJ1",
        "colab_type": "code",
        "colab": {
          "base_uri": "https://localhost:8080/",
          "height": 225
        },
        "outputId": "d05335f5-a14e-406f-9c9d-bda5d9a4ed51"
      },
      "cell_type": "code",
      "source": [
        "sugere_para(1).head()"
      ],
      "execution_count": 115,
      "outputs": [
        {
          "output_type": "execute_result",
          "data": {
            "text/html": [
              "<div>\n",
              "<style scoped>\n",
              "    .dataframe tbody tr th:only-of-type {\n",
              "        vertical-align: middle;\n",
              "    }\n",
              "\n",
              "    .dataframe tbody tr th {\n",
              "        vertical-align: top;\n",
              "    }\n",
              "\n",
              "    .dataframe thead th {\n",
              "        text-align: right;\n",
              "    }\n",
              "</style>\n",
              "<table border=\"1\" class=\"dataframe\">\n",
              "  <thead>\n",
              "    <tr style=\"text-align: right;\">\n",
              "      <th></th>\n",
              "      <th>nota</th>\n",
              "      <th>titulo</th>\n",
              "      <th>generos</th>\n",
              "      <th>total_de_votos</th>\n",
              "      <th>nota_media</th>\n",
              "    </tr>\n",
              "    <tr>\n",
              "      <th>filmeId</th>\n",
              "      <th></th>\n",
              "      <th></th>\n",
              "      <th></th>\n",
              "      <th></th>\n",
              "      <th></th>\n",
              "    </tr>\n",
              "  </thead>\n",
              "  <tbody>\n",
              "    <tr>\n",
              "      <th>44761</th>\n",
              "      <td>5.0</td>\n",
              "      <td>Brick (2005)</td>\n",
              "      <td>Crime|Drama|Film-Noir|Mystery</td>\n",
              "      <td>77.0</td>\n",
              "      <td>3.896104</td>\n",
              "    </tr>\n",
              "    <tr>\n",
              "      <th>8955</th>\n",
              "      <td>5.0</td>\n",
              "      <td>Undertow (2004)</td>\n",
              "      <td>Crime|Drama|Thriller</td>\n",
              "      <td>10.0</td>\n",
              "      <td>3.750000</td>\n",
              "    </tr>\n",
              "    <tr>\n",
              "      <th>2248</th>\n",
              "      <td>5.0</td>\n",
              "      <td>Say Anything... (1989)</td>\n",
              "      <td>Comedy|Drama|Romance</td>\n",
              "      <td>305.0</td>\n",
              "      <td>3.770492</td>\n",
              "    </tr>\n",
              "    <tr>\n",
              "      <th>3052</th>\n",
              "      <td>5.0</td>\n",
              "      <td>Dogma (1999)</td>\n",
              "      <td>Adventure|Comedy|Fantasy</td>\n",
              "      <td>575.0</td>\n",
              "      <td>3.614783</td>\n",
              "    </tr>\n",
              "    <tr>\n",
              "      <th>3896</th>\n",
              "      <td>5.0</td>\n",
              "      <td>Way of the Gun, The (2000)</td>\n",
              "      <td>Crime|Thriller</td>\n",
              "      <td>51.0</td>\n",
              "      <td>3.245098</td>\n",
              "    </tr>\n",
              "  </tbody>\n",
              "</table>\n",
              "</div>"
            ],
            "text/plain": [
              "         nota                      titulo                        generos  \\\n",
              "filmeId                                                                    \n",
              "44761     5.0                Brick (2005)  Crime|Drama|Film-Noir|Mystery   \n",
              "8955      5.0             Undertow (2004)           Crime|Drama|Thriller   \n",
              "2248      5.0      Say Anything... (1989)           Comedy|Drama|Romance   \n",
              "3052      5.0                Dogma (1999)       Adventure|Comedy|Fantasy   \n",
              "3896      5.0  Way of the Gun, The (2000)                 Crime|Thriller   \n",
              "\n",
              "         total_de_votos  nota_media  \n",
              "filmeId                              \n",
              "44761              77.0    3.896104  \n",
              "8955               10.0    3.750000  \n",
              "2248              305.0    3.770492  \n",
              "3052              575.0    3.614783  \n",
              "3896               51.0    3.245098  "
            ]
          },
          "metadata": {
            "tags": []
          },
          "execution_count": 115
        }
      ]
    },
    {
      "metadata": {
        "id": "Prj9_gItR7EC",
        "colab_type": "text"
      },
      "cell_type": "markdown",
      "source": [
        "# Sugerindo baseado em vários usuários"
      ]
    },
    {
      "metadata": {
        "id": "UMizNi3TSdYS",
        "colab_type": "code",
        "colab": {}
      },
      "cell_type": "code",
      "source": [
        "def mais_proximos_de(voce_id, n_mais_proximos=10, numero_de_usuarios_a_analisar = None):\n",
        "  distancias = distancia_de_todos(voce_id, numero_de_usuarios_a_analisar = numero_de_usuarios_a_analisar)\n",
        "  distancias = distancias.sort_values(\"distancia\")\n",
        "  distancias = distancias.set_index(\"outra_pessoa\").drop(voce_id)\n",
        "  return distancias.head(n_mais_proximos)"
      ],
      "execution_count": 0,
      "outputs": []
    },
    {
      "metadata": {
        "id": "bsKiRouRSkrV",
        "colab_type": "code",
        "colab": {
          "base_uri": "https://localhost:8080/",
          "height": 136
        },
        "outputId": "34ea53ea-30f3-4648-b2b7-7ff68cb6eef7"
      },
      "cell_type": "code",
      "source": [
        "mais_proximos_de(1, n_mais_proximos = 2, numero_de_usuarios_a_analisar=300)"
      ],
      "execution_count": 120,
      "outputs": [
        {
          "output_type": "execute_result",
          "data": {
            "text/html": [
              "<div>\n",
              "<style scoped>\n",
              "    .dataframe tbody tr th:only-of-type {\n",
              "        vertical-align: middle;\n",
              "    }\n",
              "\n",
              "    .dataframe tbody tr th {\n",
              "        vertical-align: top;\n",
              "    }\n",
              "\n",
              "    .dataframe thead th {\n",
              "        text-align: right;\n",
              "    }\n",
              "</style>\n",
              "<table border=\"1\" class=\"dataframe\">\n",
              "  <thead>\n",
              "    <tr style=\"text-align: right;\">\n",
              "      <th></th>\n",
              "      <th>voce</th>\n",
              "      <th>distancia</th>\n",
              "    </tr>\n",
              "    <tr>\n",
              "      <th>outra_pessoa</th>\n",
              "      <th></th>\n",
              "      <th></th>\n",
              "    </tr>\n",
              "  </thead>\n",
              "  <tbody>\n",
              "    <tr>\n",
              "      <th>214</th>\n",
              "      <td>1</td>\n",
              "      <td>1.118034</td>\n",
              "    </tr>\n",
              "    <tr>\n",
              "      <th>235</th>\n",
              "      <td>1</td>\n",
              "      <td>1.732051</td>\n",
              "    </tr>\n",
              "  </tbody>\n",
              "</table>\n",
              "</div>"
            ],
            "text/plain": [
              "              voce  distancia\n",
              "outra_pessoa                 \n",
              "214              1   1.118034\n",
              "235              1   1.732051"
            ]
          },
          "metadata": {
            "tags": []
          },
          "execution_count": 120
        }
      ]
    },
    {
      "metadata": {
        "id": "eqrHPKGtPHP1",
        "colab_type": "code",
        "colab": {}
      },
      "cell_type": "code",
      "source": [
        "def sugere_para(voce, n_mais_proximos = 10, numero_de_usuarios_a_analisar = None):\n",
        "  notas_de_voce = notas_do_usuario(voce)\n",
        "  filmes_que_voce_ja_viu = notas_de_voce.index\n",
        "\n",
        "  similares = mais_proximos_de(voce, n_mais_proximos = n_mais_proximos, numero_de_usuarios_a_analisar = numero_de_usuarios_a_analisar)\n",
        "  usuarios_similares = similares.index\n",
        "  notas_dos_similares = notas.set_index(\"usuarioId\").loc[usuarios_similares]\n",
        "  recomendacoes = notas_dos_similares.groupby(\"filmeId\").mean()[[\"nota\"]]\n",
        "  recomendacoes = recomendacoes.sort_values(\"nota\", ascending=False)\n",
        "  return recomendacoes.join(filmes)"
      ],
      "execution_count": 0,
      "outputs": []
    },
    {
      "metadata": {
        "id": "SZA5ELjUSJ-P",
        "colab_type": "code",
        "colab": {
          "base_uri": "https://localhost:8080/",
          "height": 225
        },
        "outputId": "86c3d5f9-1167-41ac-82d8-4336c31f670a"
      },
      "cell_type": "code",
      "source": [
        "sugere_para(1, numero_de_usuarios_a_analisar = 50).head()"
      ],
      "execution_count": 135,
      "outputs": [
        {
          "output_type": "execute_result",
          "data": {
            "text/html": [
              "<div>\n",
              "<style scoped>\n",
              "    .dataframe tbody tr th:only-of-type {\n",
              "        vertical-align: middle;\n",
              "    }\n",
              "\n",
              "    .dataframe tbody tr th {\n",
              "        vertical-align: top;\n",
              "    }\n",
              "\n",
              "    .dataframe thead th {\n",
              "        text-align: right;\n",
              "    }\n",
              "</style>\n",
              "<table border=\"1\" class=\"dataframe\">\n",
              "  <thead>\n",
              "    <tr style=\"text-align: right;\">\n",
              "      <th></th>\n",
              "      <th>nota</th>\n",
              "      <th>titulo</th>\n",
              "      <th>generos</th>\n",
              "      <th>total_de_votos</th>\n",
              "      <th>nota_media</th>\n",
              "    </tr>\n",
              "    <tr>\n",
              "      <th>filmeId</th>\n",
              "      <th></th>\n",
              "      <th></th>\n",
              "      <th></th>\n",
              "      <th></th>\n",
              "      <th></th>\n",
              "    </tr>\n",
              "  </thead>\n",
              "  <tbody>\n",
              "    <tr>\n",
              "      <th>1625</th>\n",
              "      <td>5.0</td>\n",
              "      <td>Game, The (1997)</td>\n",
              "      <td>Drama|Mystery|Thriller</td>\n",
              "      <td>647.0</td>\n",
              "      <td>3.879444</td>\n",
              "    </tr>\n",
              "    <tr>\n",
              "      <th>1748</th>\n",
              "      <td>5.0</td>\n",
              "      <td>Dark City (1998)</td>\n",
              "      <td>Adventure|Film-Noir|Sci-Fi|Thriller</td>\n",
              "      <td>436.0</td>\n",
              "      <td>3.751147</td>\n",
              "    </tr>\n",
              "    <tr>\n",
              "      <th>4262</th>\n",
              "      <td>5.0</td>\n",
              "      <td>Scarface (1983)</td>\n",
              "      <td>Action|Crime|Drama</td>\n",
              "      <td>464.0</td>\n",
              "      <td>3.897629</td>\n",
              "    </tr>\n",
              "    <tr>\n",
              "      <th>1242</th>\n",
              "      <td>5.0</td>\n",
              "      <td>Glory (1989)</td>\n",
              "      <td>Drama|War</td>\n",
              "      <td>421.0</td>\n",
              "      <td>3.888361</td>\n",
              "    </tr>\n",
              "    <tr>\n",
              "      <th>296</th>\n",
              "      <td>5.0</td>\n",
              "      <td>Pulp Fiction (1994)</td>\n",
              "      <td>Comedy|Crime|Drama|Thriller</td>\n",
              "      <td>2780.0</td>\n",
              "      <td>4.166906</td>\n",
              "    </tr>\n",
              "  </tbody>\n",
              "</table>\n",
              "</div>"
            ],
            "text/plain": [
              "         nota               titulo                              generos  \\\n",
              "filmeId                                                                   \n",
              "1625      5.0     Game, The (1997)               Drama|Mystery|Thriller   \n",
              "1748      5.0     Dark City (1998)  Adventure|Film-Noir|Sci-Fi|Thriller   \n",
              "4262      5.0      Scarface (1983)                   Action|Crime|Drama   \n",
              "1242      5.0         Glory (1989)                            Drama|War   \n",
              "296       5.0  Pulp Fiction (1994)          Comedy|Crime|Drama|Thriller   \n",
              "\n",
              "         total_de_votos  nota_media  \n",
              "filmeId                              \n",
              "1625              647.0    3.879444  \n",
              "1748              436.0    3.751147  \n",
              "4262              464.0    3.897629  \n",
              "1242              421.0    3.888361  \n",
              "296              2780.0    4.166906  "
            ]
          },
          "metadata": {
            "tags": []
          },
          "execution_count": 135
        }
      ]
    },
    {
      "metadata": {
        "id": "fwLhmahqUptl",
        "colab_type": "code",
        "colab": {
          "base_uri": "https://localhost:8080/",
          "height": 225
        },
        "outputId": "08426235-baaf-425f-f708-7caec5bd4e45"
      },
      "cell_type": "code",
      "source": [
        "sugere_para(1, numero_de_usuarios_a_analisar = 300).head()"
      ],
      "execution_count": 136,
      "outputs": [
        {
          "output_type": "execute_result",
          "data": {
            "text/html": [
              "<div>\n",
              "<style scoped>\n",
              "    .dataframe tbody tr th:only-of-type {\n",
              "        vertical-align: middle;\n",
              "    }\n",
              "\n",
              "    .dataframe tbody tr th {\n",
              "        vertical-align: top;\n",
              "    }\n",
              "\n",
              "    .dataframe thead th {\n",
              "        text-align: right;\n",
              "    }\n",
              "</style>\n",
              "<table border=\"1\" class=\"dataframe\">\n",
              "  <thead>\n",
              "    <tr style=\"text-align: right;\">\n",
              "      <th></th>\n",
              "      <th>nota</th>\n",
              "      <th>titulo</th>\n",
              "      <th>generos</th>\n",
              "      <th>total_de_votos</th>\n",
              "      <th>nota_media</th>\n",
              "    </tr>\n",
              "    <tr>\n",
              "      <th>filmeId</th>\n",
              "      <th></th>\n",
              "      <th></th>\n",
              "      <th></th>\n",
              "      <th></th>\n",
              "      <th></th>\n",
              "    </tr>\n",
              "  </thead>\n",
              "  <tbody>\n",
              "    <tr>\n",
              "      <th>1939</th>\n",
              "      <td>5.0</td>\n",
              "      <td>Best Years of Our Lives, The (1946)</td>\n",
              "      <td>Drama|War</td>\n",
              "      <td>74.0</td>\n",
              "      <td>4.027027</td>\n",
              "    </tr>\n",
              "    <tr>\n",
              "      <th>1019</th>\n",
              "      <td>5.0</td>\n",
              "      <td>20,000 Leagues Under the Sea (1954)</td>\n",
              "      <td>Adventure|Drama|Sci-Fi</td>\n",
              "      <td>217.0</td>\n",
              "      <td>3.387097</td>\n",
              "    </tr>\n",
              "    <tr>\n",
              "      <th>1272</th>\n",
              "      <td>5.0</td>\n",
              "      <td>Patton (1970)</td>\n",
              "      <td>Drama|War</td>\n",
              "      <td>291.0</td>\n",
              "      <td>3.915808</td>\n",
              "    </tr>\n",
              "    <tr>\n",
              "      <th>3125</th>\n",
              "      <td>5.0</td>\n",
              "      <td>End of the Affair, The (1999)</td>\n",
              "      <td>Drama</td>\n",
              "      <td>34.0</td>\n",
              "      <td>3.808824</td>\n",
              "    </tr>\n",
              "    <tr>\n",
              "      <th>2660</th>\n",
              "      <td>5.0</td>\n",
              "      <td>Thing from Another World, The (1951)</td>\n",
              "      <td>Horror|Sci-Fi</td>\n",
              "      <td>43.0</td>\n",
              "      <td>3.825581</td>\n",
              "    </tr>\n",
              "  </tbody>\n",
              "</table>\n",
              "</div>"
            ],
            "text/plain": [
              "         nota                                titulo                 generos  \\\n",
              "filmeId                                                                       \n",
              "1939      5.0   Best Years of Our Lives, The (1946)               Drama|War   \n",
              "1019      5.0   20,000 Leagues Under the Sea (1954)  Adventure|Drama|Sci-Fi   \n",
              "1272      5.0                         Patton (1970)               Drama|War   \n",
              "3125      5.0         End of the Affair, The (1999)                   Drama   \n",
              "2660      5.0  Thing from Another World, The (1951)           Horror|Sci-Fi   \n",
              "\n",
              "         total_de_votos  nota_media  \n",
              "filmeId                              \n",
              "1939               74.0    4.027027  \n",
              "1019              217.0    3.387097  \n",
              "1272              291.0    3.915808  \n",
              "3125               34.0    3.808824  \n",
              "2660               43.0    3.825581  "
            ]
          },
          "metadata": {
            "tags": []
          },
          "execution_count": 136
        }
      ]
    },
    {
      "metadata": {
        "id": "8CrQCohJUutK",
        "colab_type": "code",
        "colab": {
          "base_uri": "https://localhost:8080/",
          "height": 235
        },
        "outputId": "02d1b930-2e08-4c75-df0e-cfe7be3e1beb"
      },
      "cell_type": "code",
      "source": [
        "sugere_para(1).head()"
      ],
      "execution_count": 137,
      "outputs": [
        {
          "output_type": "execute_result",
          "data": {
            "text/html": [
              "<div>\n",
              "<style scoped>\n",
              "    .dataframe tbody tr th:only-of-type {\n",
              "        vertical-align: middle;\n",
              "    }\n",
              "\n",
              "    .dataframe tbody tr th {\n",
              "        vertical-align: top;\n",
              "    }\n",
              "\n",
              "    .dataframe thead th {\n",
              "        text-align: right;\n",
              "    }\n",
              "</style>\n",
              "<table border=\"1\" class=\"dataframe\">\n",
              "  <thead>\n",
              "    <tr style=\"text-align: right;\">\n",
              "      <th></th>\n",
              "      <th>nota</th>\n",
              "      <th>titulo</th>\n",
              "      <th>generos</th>\n",
              "      <th>total_de_votos</th>\n",
              "      <th>nota_media</th>\n",
              "    </tr>\n",
              "    <tr>\n",
              "      <th>filmeId</th>\n",
              "      <th></th>\n",
              "      <th></th>\n",
              "      <th></th>\n",
              "      <th></th>\n",
              "      <th></th>\n",
              "    </tr>\n",
              "  </thead>\n",
              "  <tbody>\n",
              "    <tr>\n",
              "      <th>1449</th>\n",
              "      <td>5.0</td>\n",
              "      <td>Waiting for Guffman (1996)</td>\n",
              "      <td>Comedy</td>\n",
              "      <td>214.0</td>\n",
              "      <td>3.922897</td>\n",
              "    </tr>\n",
              "    <tr>\n",
              "      <th>2672</th>\n",
              "      <td>5.0</td>\n",
              "      <td>Thirteenth Floor, The (1999)</td>\n",
              "      <td>Drama|Sci-Fi|Thriller</td>\n",
              "      <td>140.0</td>\n",
              "      <td>3.339286</td>\n",
              "    </tr>\n",
              "    <tr>\n",
              "      <th>3365</th>\n",
              "      <td>5.0</td>\n",
              "      <td>Searchers, The (1956)</td>\n",
              "      <td>Drama|Western</td>\n",
              "      <td>79.0</td>\n",
              "      <td>3.936709</td>\n",
              "    </tr>\n",
              "    <tr>\n",
              "      <th>114635</th>\n",
              "      <td>5.0</td>\n",
              "      <td>Look of Silence, The (2014)</td>\n",
              "      <td>Documentary</td>\n",
              "      <td>7.0</td>\n",
              "      <td>4.500000</td>\n",
              "    </tr>\n",
              "    <tr>\n",
              "      <th>1049</th>\n",
              "      <td>5.0</td>\n",
              "      <td>Ghost and the Darkness, The (1996)</td>\n",
              "      <td>Action|Adventure</td>\n",
              "      <td>168.0</td>\n",
              "      <td>3.532738</td>\n",
              "    </tr>\n",
              "  </tbody>\n",
              "</table>\n",
              "</div>"
            ],
            "text/plain": [
              "         nota                              titulo                generos  \\\n",
              "filmeId                                                                    \n",
              "1449      5.0          Waiting for Guffman (1996)                 Comedy   \n",
              "2672      5.0        Thirteenth Floor, The (1999)  Drama|Sci-Fi|Thriller   \n",
              "3365      5.0               Searchers, The (1956)          Drama|Western   \n",
              "114635    5.0         Look of Silence, The (2014)            Documentary   \n",
              "1049      5.0  Ghost and the Darkness, The (1996)       Action|Adventure   \n",
              "\n",
              "         total_de_votos  nota_media  \n",
              "filmeId                              \n",
              "1449              214.0    3.922897  \n",
              "2672              140.0    3.339286  \n",
              "3365               79.0    3.936709  \n",
              "114635              7.0    4.500000  \n",
              "1049              168.0    3.532738  "
            ]
          },
          "metadata": {
            "tags": []
          },
          "execution_count": 137
        }
      ]
    },
    {
      "metadata": {
        "id": "E243gH2hUz6c",
        "colab_type": "code",
        "colab": {}
      },
      "cell_type": "code",
      "source": [
        "def knn(voce_id, k_mais_proximos=10, numero_de_usuarios_a_analisar = None):\n",
        "  distancias = distancia_de_todos(voce_id, numero_de_usuarios_a_analisar = numero_de_usuarios_a_analisar)\n",
        "  distancias = distancias.sort_values(\"distancia\")\n",
        "  distancias = distancias.set_index(\"outra_pessoa\").drop(voce_id)\n",
        "  return distancias.head(k_mais_proximos)"
      ],
      "execution_count": 0,
      "outputs": []
    },
    {
      "metadata": {
        "id": "7XJ4Sj34V9Xn",
        "colab_type": "code",
        "colab": {}
      },
      "cell_type": "code",
      "source": [
        "def sugere_para(voce, k_mais_proximos = 10, numero_de_usuarios_a_analisar = None):\n",
        "  notas_de_voce = notas_do_usuario(voce)\n",
        "  filmes_que_voce_ja_viu = notas_de_voce.index\n",
        "\n",
        "  similares = knn(voce, k_mais_proximos = k_mais_proximos, numero_de_usuarios_a_analisar = numero_de_usuarios_a_analisar)\n",
        "  usuarios_similares = similares.index\n",
        "  notas_dos_similares = notas.set_index(\"usuarioId\").loc[usuarios_similares]\n",
        "  recomendacoes = notas_dos_similares.groupby(\"filmeId\").mean()[[\"nota\"]]\n",
        "  recomendacoes = recomendacoes.sort_values(\"nota\", ascending=False)\n",
        "  return recomendacoes.join(filmes)"
      ],
      "execution_count": 0,
      "outputs": []
    },
    {
      "metadata": {
        "id": "rqSpEkJlWCDI",
        "colab_type": "code",
        "colab": {}
      },
      "cell_type": "code",
      "source": [
        ""
      ],
      "execution_count": 0,
      "outputs": []
    }
  ]
}